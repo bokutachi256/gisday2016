{
  "nbformat": 4,
  "nbformat_minor": 0,
  "metadata": {
    "anaconda-cloud": {},
    "kernelspec": {
      "display_name": "Python 3",
      "language": "python",
      "name": "python3"
    },
    "language_info": {
      "codemirror_mode": {
        "name": "ipython",
        "version": 3
      },
      "file_extension": ".py",
      "mimetype": "text/x-python",
      "name": "python",
      "nbconvert_exporter": "python",
      "pygments_lexer": "ipython3",
      "version": "3.6.6"
    },
    "colab": {
      "name": "estat_api_test_python36.ipynb",
      "provenance": [],
      "toc_visible": true,
      "include_colab_link": true
    }
  },
  "cells": [
    {
      "cell_type": "markdown",
      "metadata": {
        "id": "view-in-github",
        "colab_type": "text"
      },
      "source": [
        "<a href=\"https://colab.research.google.com/github/bokutachi256/gisday2016/blob/master/estat_api_test_python36.ipynb\" target=\"_parent\"><img src=\"https://colab.research.google.com/assets/colab-badge.svg\" alt=\"Open In Colab\"/></a>"
      ]
    },
    {
      "cell_type": "markdown",
      "metadata": {
        "id": "PByuBnW6hpAh",
        "colab_type": "text"
      },
      "source": [
        "# ArcPyを用いたWeb APIの活用（Python3.6版） \n",
        "　\n",
        "- GIS Day in 東京 2016 Eコース\n",
        "- 首都大学東京 都市環境学部 地理環境コース 中山大地\n",
        "- 2016年10月29日 首都大学東京 南大沢キャンパス"
      ]
    },
    {
      "cell_type": "markdown",
      "metadata": {
        "collapsed": true,
        "id": "w6oaUn7_hpAj",
        "colab_type": "text"
      },
      "source": [
        "# はじめに"
      ]
    },
    {
      "cell_type": "markdown",
      "metadata": {
        "id": "_QlxjC2thpAk",
        "colab_type": "text"
      },
      "source": [
        "この講習会でfはe-Stat API バージョン 2.1に準拠しています．\n",
        "e-Stat APIに関しての詳しい情報は，\n",
        "[e-Stat API仕様のページ (http://www.e-stat.go.jp/api/api-spec/)](http://www.e-stat.go.jp/api/api-spec/)をご覧下さい．"
      ]
    },
    {
      "cell_type": "markdown",
      "metadata": {
        "id": "eipbhdUhhpAl",
        "colab_type": "text"
      },
      "source": [
        "# ねらい"
      ]
    },
    {
      "cell_type": "markdown",
      "metadata": {
        "id": "Ihrk3sOXhpAm",
        "colab_type": "text"
      },
      "source": [
        "この講習会では，ArcPyからe-statを効率的に利用する方法について学びます．\n",
        "具体的には国勢調査の小地域テーブルをe-Stat APIを用いて取得し，\n",
        "ArcGISに取り込むことを目的としています．\n",
        "\n",
        "下の例は，e-Statの[地図で見る統計（統計GIS）(https://www.e-stat.go.jp/SG1/estat/redirect.do?url=toukeiChiri.do%3Fmethod%3Dinit)](https://www.e-stat.go.jp/SG1/estat/redirect.do?url=toukeiChiri.do%3Fmethod%3Dinit)\n",
        "から取得した東京都の平成22年国勢調査（小地域）年齢別（5歳階級，4区分），\n",
        "男女別人口のデータになります（**tblT000573C13101.xlsx**参照）．\n",
        "\n",
        "列名と意味は以下のようになっています．\n",
        "- `KEY_CODE`：地域コード\n",
        "- `HYOSYO`：地域の住所レベル\n",
        "- `CITYNAME`：市区町村名\n",
        "- `NAME`：小地域名（町丁目名）\n",
        "- `HTKSYORI`：秘匿処理がされているか\n",
        "- `HTKSAKI`：秘匿処理の処理先\n",
        "- `GASSAN`：合算処理がなされているか\n",
        "- `T000573001`から`T000573060`：年齢別・男女別カテゴリの人口"
      ]
    },
    {
      "cell_type": "markdown",
      "metadata": {
        "id": "k5mAu1WmhpAn",
        "colab_type": "text"
      },
      "source": [
        "KEY_CODE|HYOSYO|CITYNAME|NAME|HTKSYORI|HTKSAKI|GASSAN|T000573001|T000573002|省略|T000573060\n",
        "-------:|-----:|:-------|:---|:-------|------:|-----:|---------:|---------:|:--:|---------:\n",
        "|||||||総数、年齢「不詳」含む|総数０〜４歳|・・・|女７５歳以上\n",
        "13101|1|千代田区|||||47115|1688|・・・|2882\n",
        "131010010|2|千代田区|丸の内||||X|X|・・・|X\n",
        "13101001001|3|千代田区|丸の内１丁目|秘匿地域|140||X|X|・・・|X\n",
        "省略|・・・|・・・|・・・|・・・|・・・|・・・|・・・|・・・|・・・|・・・\n",
        "13101003001|3|千代田区|内幸町１丁目|秘匿地域|4001||X|X|・・・|X\n",
        "13101003002|3|千代田区|内幸町２丁目||||-|-|・・・|-\n",
        "131010040|2|千代田区|有楽町||||33|-|・・・|4\n",
        "13101004001|3|千代田区|有楽町１丁目|合算地域あり||003001;004002|33|-|・・・|4\n",
        "13101004002|3|千代田区|有楽町２丁目|秘匿地域|4001||X|X|・・・|X\n",
        "省略|・・・|・・・|・・・|・・・|・・・|・・・|・・・|・・・|・・・|・・・\n",
        "131010180|2|千代田区|富士見||||2758|110|・・・|123\n",
        "13101018001|3|千代田区|富士見１丁目||||770|19|・・・|47\n",
        "13101018002|3|千代田区|富士見２丁目||||1988|91|・・・|76\n",
        "省略|・・・|・・・|・・・|・・・|・・・|・・・|・・・|・・・|・・・|・・・"
      ]
    },
    {
      "cell_type": "markdown",
      "metadata": {
        "id": "aBL064BfhpAo",
        "colab_type": "text"
      },
      "source": [
        "通常の利用ですと，このデータを取得するには統計GISからメニューをたどり，\n",
        "市区町村別にデータをダウンロードしなくてはなりません．\n",
        "必要なデータが少量ならこの方法でもよいのですが，\n",
        "広い範囲のデータが必要な時には繁雑な作業になります．\n",
        "\n",
        "e-Stat APIを用いることにより，\n",
        "プログラムからデータを取得することが可能になります．\n",
        "広い範囲のデータを一度に取得したり，\n",
        "ローカルにデータを持たずにデータ解析を行うことができます．"
      ]
    },
    {
      "cell_type": "markdown",
      "metadata": {
        "id": "AyRa6DclhpAp",
        "colab_type": "text"
      },
      "source": [
        "# 作業を始めるにあたって"
      ]
    },
    {
      "cell_type": "markdown",
      "metadata": {
        "id": "Aa0uJR2EhpAq",
        "colab_type": "text"
      },
      "source": [
        "# e-Stat APIキーの取得"
      ]
    },
    {
      "cell_type": "markdown",
      "metadata": {
        "id": "aJMB7NfOhpAq",
        "colab_type": "text"
      },
      "source": [
        "e-Stat APIを使用するためには，\n",
        "[e-Stat APIのページ (http://www.e-stat.go.jp/api/)](http://www.e-stat.go.jp/api/)からユーザー登録を行い，\n",
        "APIキーを取得する必要があります．\n",
        "ここでは，講習会用に取得したキーを共用します．\n",
        "\n",
        "共用するキーは以下になります．\n",
        "```\n",
        "c8fbd72d8f58aedf4ca3106034601d0ea83e9a69\n",
        "```"
      ]
    },
    {
      "cell_type": "markdown",
      "metadata": {
        "id": "PpdEjKtjhpAr",
        "colab_type": "text"
      },
      "source": [
        "# e-Stat APIを利用する手順"
      ]
    },
    {
      "cell_type": "markdown",
      "metadata": {
        "id": "6hz4OW0yhpAs",
        "colab_type": "text"
      },
      "source": [
        "e-Stat APIを用いて統計表を取得するには，以下の手順が必要になります．\n",
        "\n",
        "1. 統計表情報取得用APIを用いて条件に合う統計表の有無を調べ，統計表IDを取得する．\n",
        "2. メタ情報取得用APIを用いて統計表の表章事項（項目名など）や地域情報を取得し，\n",
        "表の外枠を作成する．\n",
        "3. 統計データ取得APIを用いて統計表の本体データを取得する．\n",
        "4. データを整形して出力する．"
      ]
    },
    {
      "cell_type": "markdown",
      "metadata": {
        "id": "xW0JpG0LhpAt",
        "colab_type": "text"
      },
      "source": [
        "# Pythonモジュールのインポート"
      ]
    },
    {
      "cell_type": "markdown",
      "metadata": {
        "id": "CuBYwsoahpAu",
        "colab_type": "text"
      },
      "source": [
        "Pythonのモジュールをインポートします．\n",
        "各モジュールは以下の役割があります．\n",
        "\n",
        "- `json`：jsonを扱うためのモジュール\n",
        "- `urllib`：urlによる各種リソースへのアクセスをするモジュール\n",
        "- `csv`：CSVファイル操作を扱うモジュール\n",
        "- `sys`：Pythonのシステムパラメータに関するモジュール\n",
        "- `os`：OSの機能にアクセスするためのモジュール\n",
        "- `codecs`：ユニコードエスケープに必要なモジュール\n",
        "\n",
        "まずは必要なモジュールをインポートしましょう．"
      ]
    },
    {
      "cell_type": "code",
      "metadata": {
        "id": "4RP-upquhpAv",
        "colab_type": "code",
        "colab": {}
      },
      "source": [
        "# -`- coding: utf-8 -`-\n",
        "\n",
        "import json\n",
        "import urllib.parse\n",
        "import urllib.request\n",
        "import csv\n",
        "import sys\n",
        "import os\n",
        "import codecs\n",
        "\n",
        "from tqdm import tqdm\n",
        "import time"
      ],
      "execution_count": 0,
      "outputs": []
    },
    {
      "cell_type": "markdown",
      "metadata": {
        "id": "fMQKisGthpAy",
        "colab_type": "text"
      },
      "source": [
        "# e-Stat APIについて"
      ]
    },
    {
      "cell_type": "markdown",
      "metadata": {
        "id": "SjrnwAAEhpAz",
        "colab_type": "text"
      },
      "source": [
        "e-Stat APIには7個のAPIがあります．\n",
        "ここでは以下の3個を使います．\n",
        "\n",
        "- 統計表情報取得用API：\"http://api.e-stat.go.jp/rest/2.1/app/json/getStatsList\"\n",
        "- メタ情報取得用API：\"http://api.e-stat.go.jp/rest/2.1/app/json/getMetaInfo\"\n",
        "- 統計データ取得用API：\"http://api.e-stat.go.jp/rest/2.1/app/json/getStatsData\"\n",
        "\n",
        "各APIはAPIのURLを用いてサーバにアクセスし，GETメソッドを使ってデータの取得を行います．\n",
        "GETメソッドでは，APIのURL末尾にに\"?\"をつけ，\n",
        "`キー = 値`の形でパラメータを引き渡します．\n",
        "パラメータが複数ある場合には，`キー = 値`のペアを\"&\"で区切って指定します．"
      ]
    },
    {
      "cell_type": "markdown",
      "metadata": {
        "id": "M94TksfhhpAz",
        "colab_type": "text"
      },
      "source": [
        "# 統計表情報の取得"
      ]
    },
    {
      "cell_type": "markdown",
      "metadata": {
        "id": "YXRPjZWJhpA0",
        "colab_type": "text"
      },
      "source": [
        "まずは統計表情報取得用APIを用いて\n",
        "条件に合う統計表が提供されているか調べてみましょう．\n",
        "APIのURLは長いので，変数にURLを格納して使用します．\n",
        "\n",
        "- `APIlist_API`：統計表情報取得用API\n",
        "- `APImeta_URL`：メタ情報取得用API\n",
        "- `APIdata_URL`：統計データ取得用API\n",
        "\n",
        "各URLはパラメータ引き渡し用の\"?\"を末尾に追加してあります．"
      ]
    },
    {
      "cell_type": "code",
      "metadata": {
        "id": "KpvViGUqhpA1",
        "colab_type": "code",
        "colab": {}
      },
      "source": [
        "APIlist_URL='http://api.e-stat.go.jp/rest/2.1/app/json/getStatsList?'\n",
        "APImeta_URL='http://api.e-stat.go.jp/rest/2.1/app/json/getMetaInfo?'\n",
        "APIdata_URL='http://api.e-stat.go.jp/rest/2.1/app/json/getStatsData?'"
      ],
      "execution_count": 0,
      "outputs": []
    },
    {
      "cell_type": "markdown",
      "metadata": {
        "id": "_NBHoxqMhpA3",
        "colab_type": "text"
      },
      "source": [
        "# APIパラメータの設定"
      ]
    },
    {
      "cell_type": "markdown",
      "metadata": {
        "id": "ODnF7pF8hpA4",
        "colab_type": "text"
      },
      "source": [
        "次にAPIに送るパラメータ文字列を作成しましょう．\n",
        "パラメータはAPIのURLに続いて以下の形式で指定します．\n",
        "\n",
        "```\n",
        "キー = 値\n",
        "```\n",
        "\n",
        "複数のキーと値を渡す場合にはキーと値のペアを`&`で区切ります．\n",
        "またパラメータはURLエンコードする必要があります．\n",
        "ここではキーと値のペアをディクショナリ型で指定し，\n",
        "`urllib.urlencode`関数を用いてURLエンコードします．\n",
        "\n",
        "ディクショナリ型の指定はキーと値を\":\"で区切って羅列します．\n",
        "\n",
        "```\n",
        "ディクショナリ名 = {\n",
        "    キー1 : 値1，\n",
        "    キー2 : 値2\n",
        "}\n",
        "```\n",
        "これを`urllib.urlencode`関数に渡すと，\n",
        "自動的にGETに適した形の文字列に変換してくれます．"
      ]
    },
    {
      "cell_type": "markdown",
      "metadata": {
        "id": "FPH8fvyqhpA5",
        "colab_type": "text"
      },
      "source": [
        "APIマニュアル**「3.2. 統計表情報取得」**より，\n",
        "統計表情報取得用APIではアプリケーションIDを表すパラメータ`appId`のみが必須で，\n",
        "これ以外のパラメータは任意となっています．\n",
        "まずは2010年調査のデータのうち\n",
        "表題やメタ情報などに\"国勢調査\"，\"年齢別\"，\"東京\"を含む\n",
        "小地域データを検索してみましょう．\n",
        "調査年を表すパラメータは`surveyYears`，\n",
        "検索文字列を表すパラメータは`searchWord`，\n",
        "データ種別を表すパラメータは`searchKind`\n",
        "になります．\n",
        "これらをディクショナリ型のオブジェクト`param`に格納します．\n",
        "\n",
        "ディクショナリ型のオブジェクトではAPIのパラメータに相当するものは\"キー\"となります．\n",
        "キー名に文字列を使う場合はクオーテーションで囲む必要があり，\n",
        "値が文字列の場合はこちらもクオーテーションで囲みます．\n",
        "パラメータの順番を気にする必要はありません．\n",
        "\n",
        "まずはAPIにアクセスするためのアプリケーションIDをセットしましょう．\n",
        "次に調査年，キーワードと続きます．\n",
        "キーワードは複数あり，すべてのキーワードを満たすものを取得したいため`AND`で区切ります．\n",
        "データ種別は小地域になるため`2`になります．"
      ]
    },
    {
      "cell_type": "code",
      "metadata": {
        "id": "iolCN_J1hpA6",
        "colab_type": "code",
        "colab": {}
      },
      "source": [
        "param = {\n",
        "    'appId': 'c8fbd72d8f58aedf4ca3106034601d0ea83e9a69',\n",
        "    'surveyYears': 2010,\n",
        "    'searchWord': '国勢調査 AND 年齢別 AND 東京',\n",
        "    'searchKind': 2\n",
        "}"
      ],
      "execution_count": 0,
      "outputs": []
    },
    {
      "cell_type": "markdown",
      "metadata": {
        "id": "Likgak1bhpA-",
        "colab_type": "text"
      },
      "source": [
        "オブジェクト`param`にパラメータがセットできたら\n",
        "`urllib.urlencode`を使ってURLエンコードし，\n",
        "`api_param`に代入しておきます．"
      ]
    },
    {
      "cell_type": "code",
      "metadata": {
        "id": "tpArulRShpA_",
        "colab_type": "code",
        "colab": {}
      },
      "source": [
        "api_param = urllib.parse.urlencode(param)"
      ],
      "execution_count": 0,
      "outputs": []
    },
    {
      "cell_type": "markdown",
      "metadata": {
        "id": "Hlcgo-FGhpBB",
        "colab_type": "text"
      },
      "source": [
        "念のため`api_param`を表示してきちんと設定できているか確認しましょう．"
      ]
    },
    {
      "cell_type": "code",
      "metadata": {
        "id": "sGCUlVUhhpBC",
        "colab_type": "code",
        "colab": {},
        "outputId": "ac5b7e7a-480a-45ef-8b63-56877aefb8be"
      },
      "source": [
        "# 確認用コードにつき，最終プログラムからは削除します\n",
        "api_param"
      ],
      "execution_count": 0,
      "outputs": [
        {
          "output_type": "execute_result",
          "data": {
            "text/plain": [
              "'appId=c8fbd72d8f58aedf4ca3106034601d0ea83e9a69&surveyYears=2010&searchWord=%E5%9B%BD%E5%8B%A2%E8%AA%BF%E6%9F%BB+AND+%E5%B9%B4%E9%BD%A2%E5%88%A5+AND+%E6%9D%B1%E4%BA%AC&searchKind=2'"
            ]
          },
          "metadata": {
            "tags": []
          },
          "execution_count": 5
        }
      ]
    },
    {
      "cell_type": "markdown",
      "metadata": {
        "id": "dSF4xt6lhpBH",
        "colab_type": "text"
      },
      "source": [
        "各パラメータは`&`で区切られ，\n",
        "値の文字列がURLエンコードされていることがわかります．\n",
        "パラメータの順序が変わる場合がありますが，\n",
        "気にする必要はありません．"
      ]
    },
    {
      "cell_type": "markdown",
      "metadata": {
        "id": "ZYPJwu-fhpBI",
        "colab_type": "text"
      },
      "source": [
        "# APIへのアクセス"
      ]
    },
    {
      "cell_type": "markdown",
      "metadata": {
        "id": "hzmYhqEBhpBJ",
        "colab_type": "text"
      },
      "source": [
        "それでは実際に統計表情報取得用APIにアクセスしましょう．\n",
        "APIへのアクセスURLは`APIlist_URL`と`api_param`を結合したものになります．\n",
        "Pythonでは文字列（文字列変数も含む）の結合に\"+\"を使用します．\n",
        "すなわち，`APIlist_URL + api_param`でパラメータを含むAPIへのURLができます．\n",
        "試しに`APIlist_URL + api_param`を確認してみましょう．"
      ]
    },
    {
      "cell_type": "code",
      "metadata": {
        "id": "il7hSV3QhpBK",
        "colab_type": "code",
        "colab": {},
        "outputId": "2653e8ad-7b0b-4f67-c099-1052bf700b58"
      },
      "source": [
        "# 確認用コードにつき，最終プログラムからは削除します\n",
        "APIlist_URL + api_param"
      ],
      "execution_count": 0,
      "outputs": [
        {
          "output_type": "execute_result",
          "data": {
            "text/plain": [
              "'http://api.e-stat.go.jp/rest/2.1/app/json/getStatsList?appId=c8fbd72d8f58aedf4ca3106034601d0ea83e9a69&surveyYears=2010&searchWord=%E5%9B%BD%E5%8B%A2%E8%AA%BF%E6%9F%BB+AND+%E5%B9%B4%E9%BD%A2%E5%88%A5+AND+%E6%9D%B1%E4%BA%AC&searchKind=2'"
            ]
          },
          "metadata": {
            "tags": []
          },
          "execution_count": 6
        }
      ]
    },
    {
      "cell_type": "markdown",
      "metadata": {
        "id": "VmDVWS6khpBN",
        "colab_type": "text"
      },
      "source": [
        "統計表情報取得用APIのURLとエンコードされたパラメータが結合されたことがわかります．"
      ]
    },
    {
      "cell_type": "markdown",
      "metadata": {
        "id": "q0SXgo5AhpBN",
        "colab_type": "text"
      },
      "source": [
        "パラメータを含むAPIへのURLを`urllib.urlopen`関数に渡すと\n",
        "サーバへのコネクションが発生し，戻り値としてパラメーターで\n",
        "指定した情報へのオブジェクトが返されます．\n",
        "\n",
        "返ってきたオブジェクトは`data_obj`に格納します．"
      ]
    },
    {
      "cell_type": "code",
      "metadata": {
        "id": "FgbIq1lnhpBO",
        "colab_type": "code",
        "colab": {}
      },
      "source": [
        "data_obj = urllib.request.urlopen(APIlist_URL + api_param)"
      ],
      "execution_count": 0,
      "outputs": []
    },
    {
      "cell_type": "markdown",
      "metadata": {
        "id": "nZV11GOOhpBR",
        "colab_type": "text"
      },
      "source": [
        "# 検索結果の取得"
      ]
    },
    {
      "cell_type": "markdown",
      "metadata": {
        "id": "4AIlAR2YhpBS",
        "colab_type": "text"
      },
      "source": [
        "返ってきたオブジェクトに対して`read`メソッドを使い，\n",
        "検索結果を取得します．\n",
        "検索結果はオブジェクト`response`に格納します．"
      ]
    },
    {
      "cell_type": "code",
      "metadata": {
        "id": "emVcejJrhpBS",
        "colab_type": "code",
        "colab": {}
      },
      "source": [
        "response = data_obj.read()"
      ],
      "execution_count": 0,
      "outputs": []
    },
    {
      "cell_type": "markdown",
      "metadata": {
        "id": "6vFVbktFhpBV",
        "colab_type": "text"
      },
      "source": [
        "`response`に格納したjsonデータを`json.loads`関数を用いてPythonのデータ型に変換します．"
      ]
    },
    {
      "cell_type": "code",
      "metadata": {
        "id": "P0WZKQmGhpBW",
        "colab_type": "code",
        "colab": {}
      },
      "source": [
        "json_data = json.loads(response)"
      ],
      "execution_count": 0,
      "outputs": []
    },
    {
      "cell_type": "markdown",
      "metadata": {
        "id": "EOhvupqGhpBZ",
        "colab_type": "text"
      },
      "source": [
        "これでオブジェクト`json_data`に統計表情報取得用APIの結果が格納されました．\n",
        "うまく取得できているか`json_data`の内容を確認してみましょう．"
      ]
    },
    {
      "cell_type": "code",
      "metadata": {
        "id": "_GMmIj_HhpBb",
        "colab_type": "code",
        "colab": {},
        "outputId": "2d58c013-501c-42b7-f8fb-a8a42ccd7f6e"
      },
      "source": [
        "# 確認用コードにつき，最終プログラムからは削除します\n",
        "json_data"
      ],
      "execution_count": 0,
      "outputs": [
        {
          "output_type": "execute_result",
          "data": {
            "text/plain": [
              "{'GET_STATS_LIST': {'RESULT': {'STATUS': 0,\n",
              "   'ERROR_MSG': '正常に終了しました。',\n",
              "   'DATE': '2018-10-06T12:51:42.750+09:00'},\n",
              "  'PARAMETER': {'LANG': 'J',\n",
              "   'SURVEY_YEARS': 2010,\n",
              "   'SEARCH_WORD': '国勢調査 AND 年齢別 AND 東京',\n",
              "   'SEARCH_KIND': 2,\n",
              "   'DATA_FORMAT': 'J'},\n",
              "  'DATALIST_INF': {'NUMBER': 1,\n",
              "   'RESULT_INF': {'FROM_NUMBER': 1, 'TO_NUMBER': 1},\n",
              "   'TABLE_INF': {'@id': 'T00057313',\n",
              "    'STAT_NAME': {'@code': '00200521', '$': '国勢調査'},\n",
              "    'GOV_ORG': {'@code': '00200', '$': '総務省'},\n",
              "    'STATISTICS_NAME': '平成２２年国勢調査(小地域)20101001',\n",
              "    'TITLE': {'@no': '13', '$': '年齢別（５歳階級、４区分）、男女別人口 東京都'},\n",
              "    'CYCLE': '-',\n",
              "    'SURVEY_DATE': 201010,\n",
              "    'OPEN_DATE': '2013-06-10',\n",
              "    'SMALL_AREA': 1,\n",
              "    'MAIN_CATEGORY': {'@code': '02', '$': '人口・世帯'},\n",
              "    'SUB_CATEGORY': {'@code': '01', '$': '人口'},\n",
              "    'OVERALL_TOTAL_NUMBER': 406860,\n",
              "    'UPDATED_DATE': '2013-06-10',\n",
              "    'STATISTICS_NAME_SPEC': {'TABULATION_CATEGORY': '平成２２年国勢調査(小地域)20101001'},\n",
              "    'TITLE_SPEC': {'TABLE_NAME': '年齢別（５歳階級、４区分）、男女別人口',\n",
              "     'TABLE_SUB_CATEGORY1': '東京都'}}}}}"
            ]
          },
          "metadata": {
            "tags": []
          },
          "execution_count": 10
        }
      ]
    },
    {
      "cell_type": "markdown",
      "metadata": {
        "id": "gGyBjul4hpBe",
        "colab_type": "text"
      },
      "source": [
        "意味のわからない結果が表示されてしまいました．\n",
        "\n",
        "APIマニュアルにも記述がありますが，\n",
        "e-Stat APIをjson型式で使用した場合，\n",
        "文字がユニコードエスケープされた状態で返されます．\n",
        "このため文字化けしたような状態で表示されます．\n",
        "また，適切なインデントがされていないため可読性が悪くなっています．\n",
        "これでは結果のチェックができないため，\n",
        "`json.dumps`を使ってユニコードエスケープの解除とインデントの設定を行います．\n",
        "\n",
        "`json.dumps`の書式は以下になります．\n",
        "```\n",
        "json.dumps(変換したいオブジェクト, ensure_ascii = False, indent = インデント数)\n",
        "```\n",
        "\n",
        "`ensure_ascii`は，非ASCII文字をユニコードエスケープするかどうかの指定です．\n",
        "デフォルトでは`True`になっているためにユニコードエスケープされますので，\n",
        "`False`にしてエスケープしない設定にします．\n",
        "インデント数は好きな値にしてください．\n",
        "\n",
        "ユニコードエスケープの解除とインデントを設定して表示してみましょう．"
      ]
    },
    {
      "cell_type": "code",
      "metadata": {
        "id": "909ON8r5hpBf",
        "colab_type": "code",
        "colab": {},
        "outputId": "fb68f60d-a7c0-41a8-aa31-db9a4792993d"
      },
      "source": [
        "# 確認用コードにつき，最終プログラムからは削除します\n",
        "print(json.dumps(json_data, ensure_ascii = False, indent = 4))"
      ],
      "execution_count": 0,
      "outputs": [
        {
          "output_type": "stream",
          "text": [
            "{\n",
            "    \"GET_STATS_LIST\": {\n",
            "        \"RESULT\": {\n",
            "            \"STATUS\": 0,\n",
            "            \"ERROR_MSG\": \"正常に終了しました。\",\n",
            "            \"DATE\": \"2018-10-06T12:51:42.750+09:00\"\n",
            "        },\n",
            "        \"PARAMETER\": {\n",
            "            \"LANG\": \"J\",\n",
            "            \"SURVEY_YEARS\": 2010,\n",
            "            \"SEARCH_WORD\": \"国勢調査 AND 年齢別 AND 東京\",\n",
            "            \"SEARCH_KIND\": 2,\n",
            "            \"DATA_FORMAT\": \"J\"\n",
            "        },\n",
            "        \"DATALIST_INF\": {\n",
            "            \"NUMBER\": 1,\n",
            "            \"RESULT_INF\": {\n",
            "                \"FROM_NUMBER\": 1,\n",
            "                \"TO_NUMBER\": 1\n",
            "            },\n",
            "            \"TABLE_INF\": {\n",
            "                \"@id\": \"T00057313\",\n",
            "                \"STAT_NAME\": {\n",
            "                    \"@code\": \"00200521\",\n",
            "                    \"$\": \"国勢調査\"\n",
            "                },\n",
            "                \"GOV_ORG\": {\n",
            "                    \"@code\": \"00200\",\n",
            "                    \"$\": \"総務省\"\n",
            "                },\n",
            "                \"STATISTICS_NAME\": \"平成２２年国勢調査(小地域)20101001\",\n",
            "                \"TITLE\": {\n",
            "                    \"@no\": \"13\",\n",
            "                    \"$\": \"年齢別（５歳階級、４区分）、男女別人口 東京都\"\n",
            "                },\n",
            "                \"CYCLE\": \"-\",\n",
            "                \"SURVEY_DATE\": 201010,\n",
            "                \"OPEN_DATE\": \"2013-06-10\",\n",
            "                \"SMALL_AREA\": 1,\n",
            "                \"MAIN_CATEGORY\": {\n",
            "                    \"@code\": \"02\",\n",
            "                    \"$\": \"人口・世帯\"\n",
            "                },\n",
            "                \"SUB_CATEGORY\": {\n",
            "                    \"@code\": \"01\",\n",
            "                    \"$\": \"人口\"\n",
            "                },\n",
            "                \"OVERALL_TOTAL_NUMBER\": 406860,\n",
            "                \"UPDATED_DATE\": \"2013-06-10\",\n",
            "                \"STATISTICS_NAME_SPEC\": {\n",
            "                    \"TABULATION_CATEGORY\": \"平成２２年国勢調査(小地域)20101001\"\n",
            "                },\n",
            "                \"TITLE_SPEC\": {\n",
            "                    \"TABLE_NAME\": \"年齢別（５歳階級、４区分）、男女別人口\",\n",
            "                    \"TABLE_SUB_CATEGORY1\": \"東京都\"\n",
            "                }\n",
            "            }\n",
            "        }\n",
            "    }\n",
            "}\n"
          ],
          "name": "stdout"
        }
      ]
    },
    {
      "cell_type": "markdown",
      "metadata": {
        "id": "WdbuDXk0hpBi",
        "colab_type": "text"
      },
      "source": [
        "うまくいきました．\n",
        "\n",
        "以下のコードを実行すると，\n",
        "統計表情報取得用APIの結果を`APIlist.json`として保存することができます．\n",
        "保存した結果を[JSON EDITOR ONLINE (http://jsoneditoronline.org/)](http://jsoneditoronline.org/)\n",
        "などで表示してみましょう．"
      ]
    },
    {
      "cell_type": "code",
      "metadata": {
        "id": "Aj9blweMhpBk",
        "colab_type": "code",
        "colab": {}
      },
      "source": [
        "# 確認用コードにつき，最終プログラムからは削除します\n",
        "f = codecs.open('APIlist.json', 'w', 'utf-8')\n",
        "f.write(json.dumps(json_data, ensure_ascii = False, indent = 4))\n",
        "f.close()"
      ],
      "execution_count": 0,
      "outputs": []
    },
    {
      "cell_type": "markdown",
      "metadata": {
        "id": "K9DNwZlshpBn",
        "colab_type": "text"
      },
      "source": [
        ">`codecs.open`関数は文字コードの指定付きでファイルをオープンします．\n",
        "ここでは`APIlist_json.txt`というファイルを書き込みモード`w`で開き，\n",
        "文字コードをUTF-8に設定します．\n",
        "開いたファイルへのポインタはオブジェクト`f`に格納します．\n",
        "実際にファイルに書き込むためにはオブジェクト`f`に対して`write`メソッドを使います．\n",
        "書き込み終了後は`close`メソッドを使ってファイルを閉じます．"
      ]
    },
    {
      "cell_type": "markdown",
      "metadata": {
        "id": "hXVQKa0zhpBn",
        "colab_type": "text"
      },
      "source": [
        "# API出力データの検討"
      ]
    },
    {
      "cell_type": "markdown",
      "metadata": {
        "id": "s3L1r7BzhpBs",
        "colab_type": "text"
      },
      "source": [
        "それではAPIマニュアル**「4. APIの出力データ」**を参考にしてAPIの出力データを検討してみましょう．\n",
        "\n",
        "ルートタグは`GET_STATS_LIST`で，\n",
        "その下に子タグとして`DATALIST_INF`，`PARAMETER`，`RESULT`タグがあります．\n",
        "処理によっては子タグの順番が変わることもあります．\n",
        "\n",
        "まずは`RESULT`タグを見てみます．"
      ]
    },
    {
      "cell_type": "markdown",
      "metadata": {
        "id": "lcAFiZa9hpBt",
        "colab_type": "text"
      },
      "source": [
        "```\n",
        "\"RESULT\": {\n",
        "    \"STATUS\": 0, \n",
        "    \"DATE\": \"2016-10-20T13:47:49.159+09:00\", \n",
        "    \"ERROR_MSG\": \"正常に終了しました。\"\n",
        "}\n",
        "```"
      ]
    },
    {
      "cell_type": "markdown",
      "metadata": {
        "id": "7M3nGacAhpBu",
        "colab_type": "text"
      },
      "source": [
        "APIマニュアル**「4.1.1 RESULTタグ」**より，\n",
        "`RESULT`タグにはAPIの出力結果情報が出力されています．\n",
        "`RESULT`タグの中の`DATE`タグは結果が出力された日時，\n",
        "`STATUS`は処理結果のコードで，`ERROR_MSG`が結果に対応するメッセージです．\n",
        "APIマニュアルより，`STATUS`は`0`になっており，APIが正常に終了していることがわかります．\n",
        "\n",
        "次に`PARAMETER`タグです．\n",
        "APIマニュアル**「4.2.1 PARAMETERタグ」**より，\n",
        "このタグはAPIを呼び出したときのパラメータが格納されています．"
      ]
    },
    {
      "cell_type": "markdown",
      "metadata": {
        "id": "CGW4SDUxhpBv",
        "colab_type": "text"
      },
      "source": [
        "```\n",
        "\"PARAMETER\": {\n",
        "    \"LANG\": \"J\", \n",
        "    \"SURVEY_YEARS\": 2010, \n",
        "    \"SEARCH_WORD\": \"国勢調査 AND 年齢別 AND 東京\", \n",
        "    \"DATA_FORMAT\": \"J\", \n",
        "    \"SEARCH_KIND\": 2\n",
        "},\n",
        "```"
      ]
    },
    {
      "cell_type": "markdown",
      "metadata": {
        "id": "le8TOWsThpBv",
        "colab_type": "text"
      },
      "source": [
        "結果の本体は`DATALIST_INF`タグです．\n",
        "APIマニュアル**「4.2.2 DATALIST_INFタグ」**より，\n",
        "ここで重要なのは`TABLE_INF`タグで，\n",
        "統計表のさまざまな属性が入っています．"
      ]
    },
    {
      "cell_type": "markdown",
      "metadata": {
        "id": "_LEhe2K8hpBw",
        "colab_type": "text"
      },
      "source": [
        "```\n",
        "\"TABLE_INF\": {\n",
        "    \"SUB_CATEGORY\": {\n",
        "        \"@code\": \"01\", \n",
        "        \"$\": \"人口\"\n",
        "    }, \n",
        "    \"SMALL_AREA\": 1, \n",
        "    \"STATISTICS_NAME\": \"平成２２年国勢調査(小地域)20101001\", \n",
        "    \"GOV_ORG\": {\n",
        "        \"@code\": \"00200\", \n",
        "        \"$\": \"総務省\"\n",
        "    }, \n",
        "    \"STAT_NAME\": {\n",
        "        \"@code\": \"00200521\", \n",
        "        \"$\": \"国勢調査\"\n",
        "    }, \n",
        "    \"TITLE\": {\n",
        "        \"$\": \"年齢別（５歳階級、４区分）、男女別人口 東京都\", \n",
        "        \"@no\": \"13\"\n",
        "    }, \n",
        "    \"MAIN_CATEGORY\": {\n",
        "        \"@code\": \"02\", \n",
        "        \"$\": \"人口・世帯\"\n",
        "    }, \n",
        "    \"SURVEY_DATE\": 201010, \n",
        "    \"STATISTICS_NAME_SPEC\": {\n",
        "        \"TABULATION_CATEGORY\": \"平成２２年国勢調査(小地域)20101001\"\n",
        "    }, \n",
        "    \"UPDATED_DATE\": \"2013-06-10\", \n",
        "    \"OPEN_DATE\": \"2013-06-10\", \n",
        "    \"OVERALL_TOTAL_NUMBER\": 406860, \n",
        "    \"@id\": \"T00057313\", \n",
        "    \"TITLE_SPEC\": {\n",
        "    \"TABLE_SUB_CATEGORY1\": \"東京都\", \n",
        "    \"TABLE_NAME\": \"年齢別（５歳階級、４区分）、男女別人口\"\n",
        "    }, \n",
        "    \"CYCLE\": \"-\"\n",
        "}\n",
        "```"
      ]
    },
    {
      "cell_type": "markdown",
      "metadata": {
        "id": "UXwEKFDhhpBx",
        "colab_type": "text"
      },
      "source": [
        "特に統計表のID（統計表ID）の`@id`，\n",
        "統計表名の提供統計名`STATISTICS_NAME`，\n",
        "統計表の表題`TITLE`はチェックする必要があります．\n",
        "また，統計データの総件名`OVERALL_TOTAL_NUMBER`も重要です．\n",
        "\n",
        "これらの情報のみを表示してみましょう．"
      ]
    },
    {
      "cell_type": "code",
      "metadata": {
        "id": "N5Ph-0SEhpBy",
        "colab_type": "code",
        "colab": {},
        "outputId": "889e1420-e582-4b77-9250-0aa4c03ab710"
      },
      "source": [
        "# 確認用コードにつき，最終プログラムからは削除します\n",
        "print(json_data['GET_STATS_LIST']['DATALIST_INF']['TABLE_INF']['@id'])\n",
        "print(json_data['GET_STATS_LIST']['DATALIST_INF']['TABLE_INF']['STATISTICS_NAME'])\n",
        "print(json_data['GET_STATS_LIST']['DATALIST_INF']['TABLE_INF']['OVERALL_TOTAL_NUMBER'])\n",
        "print(json_data['GET_STATS_LIST']['DATALIST_INF']['TABLE_INF']['TITLE_SPEC']['TABLE_NAME'])\n",
        "print(json_data['GET_STATS_LIST']['DATALIST_INF']['TABLE_INF']['TITLE_SPEC']['TABLE_SUB_CATEGORY1'])"
      ],
      "execution_count": 0,
      "outputs": [
        {
          "output_type": "stream",
          "text": [
            "T00057313\n",
            "平成２２年国勢調査(小地域)20101001\n",
            "406860\n",
            "年齢別（５歳階級、４区分）、男女別人口\n",
            "東京都\n"
          ],
          "name": "stdout"
        }
      ]
    },
    {
      "cell_type": "markdown",
      "metadata": {
        "id": "sfShMOHzhpB0",
        "colab_type": "text"
      },
      "source": [
        "これで必要な情報が確認できました．"
      ]
    },
    {
      "cell_type": "markdown",
      "metadata": {
        "id": "gcYr8ClYhpB1",
        "colab_type": "text"
      },
      "source": [
        "JSONの表記，Pythonでの表記，Pythonでの要素へのアクセス方法は以下のようになっています．\n",
        "なお，Pythonではダブルクオーテーションとシングルクオーテーションは同じ役割をします．"
      ]
    },
    {
      "cell_type": "markdown",
      "metadata": {
        "id": "jFVx1epohpB1",
        "colab_type": "text"
      },
      "source": [
        "Pythonでの<br>オブジェクト型|JSON型式での表記|Pythonでの表記例|Pythonでの<br>アクセス方法|結果\n",
        "-|-\n",
        "ディクショナリ型|`{`<br>&emsp;`\"要素名1\": \"文字型値\",`<br>&emsp;`\"要素名2\": 数値`<br>`}`|`json_data = {`<br>&emsp;`\"NAME\": \"東京\",`<br>&emsp;`\"CODE\": 13`<br>`}`|`json_data[\"NAME\"]`<br>`json_data[\"CODE\"]`|&rarr;東京<br>&rarr;13\n",
        "親子要素のある<br>ディクショナリ型|`{`<br>&emsp;`\"親要素名\":{`<br>&emsp;&emsp;`\"子要素名1\": \"文字型値\",`<br>&emsp;&emsp;`\"子要素名2\": 数値`<br>&emsp;`}`<br>`}`|`json_data = {`<br>&emsp;`\"TABLE_INF\":{`<br>&emsp;&emsp;`\"NAME\": \"東京\",`<br>&emsp;&emsp;`\"CODE\": 13`<br>&emsp;`}`<br>`}`|`json_data[\"TABLE_INF\"][\"NAME\"]`<br>`json_data[\"TABLE_INF\"][\"CODE\"]`|&rarr;東京<br>&rarr;13\n",
        "入れ子のディクショナリ型|`{`<br>&emsp;`\"親要素名\":{`<br>&emsp;&emsp;`\"子要素名1\":{`<br>&emsp;&emsp;&emsp;`\"子要素名2\": \"文字型値\",`<br>&emsp;&emsp;&emsp;`\"子要素名3\": 数値`<br>&emsp;&emsp;`}`<br>&emsp;`}`<br>`}`|`json_data = {`<br>&emsp;`\"META_INF\":{`<br>&emsp;&emsp;`\"LOC_INFO\":{`<br>&emsp;&emsp;&emsp;`\"NAME\": \"東京\",`<br>&emsp;&emsp;&emsp;`\"CODE\": 13`<br>&emsp;&emsp;`}`<br>&emsp;`}`<br>`}`|`json_data[\"META_INF\"][\"LOC_INFO\"][\"NAME\"]`<br>`json_data[\"META_INF\"][\"LOC_INFO\"][\"CODE\"]`|&rarr;東京<br>&rarr;13\n",
        "リスト型|`[\"値1\", \"値2\", \"値2\", \"値4\"]`|`json_data = [`<br>&emsp;`\"埼玉\",`<br>&emsp;` \"千葉\",`<br>&emsp;` \"東京\",`<br>&emsp;` \"神奈川\"`<br>`]`|`json_data[0]`<br>`json_data[3]`|&rarr;埼玉<br>&rarr;神奈川"
      ]
    },
    {
      "cell_type": "markdown",
      "metadata": {
        "id": "F1iVhLIWhpB2",
        "colab_type": "text"
      },
      "source": [
        ">ディクショナリ型オブジェクトとリスト型オブジェクトはともに配列変数の一種です．ディクショナリ型オブジェクトは配列の添え字に文字列などが使えますが，リスト型オブジェクトは数値（基本的に0以上の整数値）のみしか使えません．ディクショナリ型オブジェクトの添え字は「キー」と呼ばれ，キーに対応する値とのペアをコロン「`:`」でつなげたものをカンマ「`,`」で区切り，全体をブレース「`{}`」で囲みます．他のプログラミング言語では，ディクショナリ型オブジェクトに相当する配列を連想配列，ハッシュ，マップなどと呼ぶこともあります．リスト型オブジェクトの添え字は数値のみで，値のみをカンマ「`,`」で区切り，全体をスクエアブラケット「`[]`」で囲みます．リストの添え字は明示的には指定せず，羅列した最初の値の添え字がが`0`になり，1ずつ添え字が増えていきます．"
      ]
    },
    {
      "cell_type": "markdown",
      "metadata": {
        "id": "8p7t6jfqhpB3",
        "colab_type": "text"
      },
      "source": [
        "# 必要な情報の切り出し"
      ]
    },
    {
      "cell_type": "markdown",
      "metadata": {
        "id": "CtIRyJTAhpB4",
        "colab_type": "text"
      },
      "source": [
        "APIから取得したデータには不要な部分も多く含まれているため，\n",
        "必要なデータのみを新しいオブジェクトに入れておきましょう．\n",
        "\n",
        "ここではディクショナリ型のオブジェクト`tab_info`に上記の情報のみを入れておきます．"
      ]
    },
    {
      "cell_type": "code",
      "metadata": {
        "id": "pD9-dj_9hpB5",
        "colab_type": "code",
        "colab": {}
      },
      "source": [
        "tab_info = {\n",
        "    '@id': json_data['GET_STATS_LIST']['DATALIST_INF']['TABLE_INF']['@id'],\n",
        "    'STATISTICS_NAME': json_data['GET_STATS_LIST']['DATALIST_INF']['TABLE_INF']['STATISTICS_NAME'],\n",
        "    'OVERALL_TOTAL_NUMBER': json_data['GET_STATS_LIST']['DATALIST_INF']['TABLE_INF']['OVERALL_TOTAL_NUMBER'],\n",
        "    'TABLE_NAME': json_data['GET_STATS_LIST']['DATALIST_INF']['TABLE_INF']['TITLE_SPEC']['TABLE_NAME'],\n",
        "    'TABLE_SUB_CATEGORY1': json_data['GET_STATS_LIST']['DATALIST_INF']['TABLE_INF']['TITLE_SPEC']['TABLE_SUB_CATEGORY1']\n",
        "}"
      ],
      "execution_count": 0,
      "outputs": []
    },
    {
      "cell_type": "markdown",
      "metadata": {
        "id": "MNTVOP1BhpB8",
        "colab_type": "text"
      },
      "source": [
        "`tab_info`を確認します．\n",
        "\n",
        "オブジェクト`tab_info`はjsonからコピーしたものになりますので，\n",
        "文字列はユニコードエスケープされたままです．\n",
        "前述の`json.dumps`を用いて整形して表示します．"
      ]
    },
    {
      "cell_type": "code",
      "metadata": {
        "id": "Bd7BqpTJhpB9",
        "colab_type": "code",
        "colab": {},
        "outputId": "7b2ba696-338d-4945-9c00-7bc57b2f6623"
      },
      "source": [
        "# 確認用コードにつき，最終プログラムからは削除します\n",
        "print(json.dumps(tab_info, ensure_ascii = False, indent = 4))"
      ],
      "execution_count": 0,
      "outputs": [
        {
          "output_type": "stream",
          "text": [
            "{\n",
            "    \"@id\": \"T00057313\",\n",
            "    \"STATISTICS_NAME\": \"平成２２年国勢調査(小地域)20101001\",\n",
            "    \"OVERALL_TOTAL_NUMBER\": 406860,\n",
            "    \"TABLE_NAME\": \"年齢別（５歳階級、４区分）、男女別人口\",\n",
            "    \"TABLE_SUB_CATEGORY1\": \"東京都\"\n",
            "}\n"
          ],
          "name": "stdout"
        }
      ]
    },
    {
      "cell_type": "markdown",
      "metadata": {
        "id": "OTUDB0yahpCD",
        "colab_type": "text"
      },
      "source": [
        "うまくいきました．"
      ]
    },
    {
      "cell_type": "markdown",
      "metadata": {
        "id": "edD-sfiyhpCE",
        "colab_type": "text"
      },
      "source": [
        "# 統計表メタデータの取得"
      ]
    },
    {
      "cell_type": "markdown",
      "metadata": {
        "id": "4aIMR2gahpCF",
        "colab_type": "text"
      },
      "source": [
        "欲しい統計表が見つかったら，次は統計表のメタデータを取得しましょう．\n",
        "メタデータには統計表の表章事項，分類事項，地域情報などが含まれます．\n",
        "\n",
        "メタデータの取得にはメタ情報取得用APIを使用します．\n",
        "APIマニュアル**「3.3. メタ情報取得」**より，\n",
        "このAPIの必須パラメータはアプリケーションIDの`appId`，\n",
        "統計表IDの`statsDataId`です．\n",
        "ディクショナリ型でこれらのパラメータを表しましょう．"
      ]
    },
    {
      "cell_type": "code",
      "metadata": {
        "id": "MKBLzYX4hpCG",
        "colab_type": "code",
        "colab": {}
      },
      "source": [
        "param = {\n",
        "    'appId': 'c8fbd72d8f58aedf4ca3106034601d0ea83e9a69',\n",
        "    'statsDataId': tab_info['@id']\n",
        "}"
      ],
      "execution_count": 0,
      "outputs": []
    },
    {
      "cell_type": "markdown",
      "metadata": {
        "id": "5Vn5YkF2hpCI",
        "colab_type": "text"
      },
      "source": [
        "統計表IDはオブジェクト`tab_info`のキー`@id`に入っているため，\n",
        "```\n",
        "tab_info['@id']\n",
        "```\n",
        "で統計表IDを取得できます．\n",
        "\n",
        "これらのパラメータを`urllib.urlencode`でURLエンコードし，メタデータ取得用APIに渡します．"
      ]
    },
    {
      "cell_type": "code",
      "metadata": {
        "id": "cjphaGRhhpCJ",
        "colab_type": "code",
        "colab": {}
      },
      "source": [
        "api_param = urllib.parse.urlencode(param)\n",
        "data_obj = urllib.request.urlopen(APImeta_URL + api_param)\n",
        "response = data_obj.read()\n",
        "json_data = json.loads(response)"
      ],
      "execution_count": 0,
      "outputs": []
    },
    {
      "cell_type": "markdown",
      "metadata": {
        "id": "WmJ4ZPMyhpCM",
        "colab_type": "text"
      },
      "source": [
        "`json.dumps`を用いて結果を確認してみましょう．\n",
        "かなりの量の結果になっています．\n",
        "以下では途中を省略して表示します．"
      ]
    },
    {
      "cell_type": "code",
      "metadata": {
        "id": "4GdsiRd2hpCN",
        "colab_type": "code",
        "colab": {}
      },
      "source": [
        "# 確認用コードにつき，最終プログラムからは削除します\n",
        "#print(json.dumps(json_data, ensure_ascii = False, indent = 4))"
      ],
      "execution_count": 0,
      "outputs": []
    },
    {
      "cell_type": "markdown",
      "metadata": {
        "id": "oDeN58CXhpCR",
        "colab_type": "text"
      },
      "source": [
        "```\n",
        "{\n",
        "    \"GET_META_INFO\": {\n",
        "        \"METADATA_INF\": {\n",
        "            \"CLASS_INF\": {\n",
        "                \"CLASS_OBJ\": [\n",
        "                    {\n",
        "                        \"@id\": \"cat01\", \n",
        "                        \"@name\": \"年齢別（５歳階級、４区分）、男女別人口\", \n",
        "                        \"CLASS\": [\n",
        "・・・途中省略・・・\n",
        "                        ]\n",
        "                    }, \n",
        "                    {\n",
        "                        \"@id\": \"cat02\", \n",
        "                        \"@name\": \"秘匿地域・合算地域有り\", \n",
        "                        \"CLASS\": [\n",
        "・・・途中省略・・・\n",
        "                        ]\n",
        "                    }, \n",
        "                    {\n",
        "                        \"@id\": \"area\", \n",
        "                        \"@name\": \"東京都\", \n",
        "                        \"CLASS\": [\n",
        "・・・途中省略・・・\n",
        "                        ]\n",
        "                    }\n",
        "                ]\n",
        "            }, \n",
        "            \"TABLE_INF\": {\n",
        "・・・途中省略・・・\n",
        "            }\n",
        "        }, \n",
        "        \"PARAMETER\": {\n",
        "・・・途中省略・・・\n",
        "        }, \n",
        "        \"RESULT\": {\n",
        "・・・途中省略・・・\n",
        "        }\n",
        "    }\n",
        "}\n",
        "```"
      ]
    },
    {
      "cell_type": "markdown",
      "metadata": {
        "id": "QoafHpAqhpCS",
        "colab_type": "text"
      },
      "source": [
        "以下のコードを実行すると，\n",
        "メタ情報取得用APIの結果を`APImeta.json`として保存することができます．\n",
        "保存した結果を[JSON EDITOR ONLINE (http://jsoneditoronline.org/)](http://jsoneditoronline.org/)\n",
        "などで表示してみましょう．"
      ]
    },
    {
      "cell_type": "code",
      "metadata": {
        "scrolled": true,
        "id": "kNah2djUhpCT",
        "colab_type": "code",
        "colab": {}
      },
      "source": [
        "# 確認用コードにつき，最終プログラムからは削除します\n",
        "f = codecs.open('APImeta.json', 'w', 'utf-8')\n",
        "f.write(json.dumps(json_data, ensure_ascii = False, indent = 4))\n",
        "f.close()"
      ],
      "execution_count": 0,
      "outputs": []
    },
    {
      "cell_type": "markdown",
      "metadata": {
        "id": "JKztL2hlhpCX",
        "colab_type": "text"
      },
      "source": [
        "# メタデータの確認"
      ]
    },
    {
      "cell_type": "markdown",
      "metadata": {
        "id": "imHsjHochpCY",
        "colab_type": "text"
      },
      "source": [
        "取得したデータを確認してみます．\n",
        "APIマニュアルの「**4.3 メタ情報取得**」も合わせて参考にします．\n",
        "戻ってきたデータはかなり複雑ですが，\n",
        "丁寧に見ていきながら解釈をしていきましょう．"
      ]
    },
    {
      "cell_type": "markdown",
      "metadata": {
        "id": "fOmODoZrhpCY",
        "colab_type": "text"
      },
      "source": [
        "取得したメタ情報は以下のようになっています．\n",
        "```\n",
        "{\n",
        "    \"GET_META_INFO\": {\n",
        "        \"METADATA_INF\": {\n",
        "・・・途中省略・・・\n",
        "        \"PARAMETER\": {\n",
        "・・・途中省略・・・\n",
        "        \"RESULT\": {\n",
        "・・・途中省略・・・\n",
        "```"
      ]
    },
    {
      "cell_type": "markdown",
      "metadata": {
        "id": "LnnJdEKHhpCZ",
        "colab_type": "text"
      },
      "source": [
        "ルートタグは`GET_META_INFO`で，\n",
        "その下に子タグとして`METADATA_INF`と`PATAMETER`と`RESULT`があります．\n",
        "`RESULT`はAPIリクエストの結果，`PARAMETER`はリクエスト時に\n",
        "指定したパラメータを出力したものです．\n",
        "肝心の情報は`METADATA_INF`に入っています．\n",
        "\n",
        "`METADATA_INF`は以下のようになっています．"
      ]
    },
    {
      "cell_type": "markdown",
      "metadata": {
        "id": "3cqd73U8hpCa",
        "colab_type": "text"
      },
      "source": [
        "```\n",
        "\"METADATA_INF\": {\n",
        "    \"CLASS_INF\": {\n",
        "        \"CLASS_OBJ\": [\n",
        "・・・途中省略・・・\n",
        "    }\n",
        "    \"TABLE_INF\": {\n",
        "        \"SUB_CATEGORY\": {\n",
        "・・・以下省略・・・\n",
        "```"
      ]
    },
    {
      "cell_type": "markdown",
      "metadata": {
        "id": "WCJzAUq-hpCa",
        "colab_type": "text"
      },
      "source": [
        "`METADATA_INF`には子タグとして`CLASS_INF`と`TABLE_INF`があり，\n",
        "`TABLE_INF`は統計表の情報が，`CLASS_INF`には統計データのメタデータが入っています．\n",
        "ここで重要なのは`CLASS_INF`タグの中の`CLASS_OBJ`タグです．\n",
        "これを詳細に見ていきましょう．"
      ]
    },
    {
      "cell_type": "markdown",
      "metadata": {
        "id": "4l49gyB2hpCb",
        "colab_type": "text"
      },
      "source": [
        "APIマニュアルの**｢4.3.2. METADATA_INFタグ」**によると，\n",
        "`CLASS_OBJ`タグはメタ情報の数だけ出力するとあります．\n",
        "それでは`CLASS_OBJ`タグには何個のメタ情報があるのでしょうか．\n",
        "\n",
        "\n",
        "`CLASS_OBJ`タグは直後にスクエアブラケット`[]`が続いているため，\n",
        "ディクショナリ型ではなくリスト型のオブジェクトです．\n",
        "リスト型オブジェクトに含まれている要素の数を知るためには\n",
        "`len`関数を使います．\n",
        "\n",
        "`CLASS_OBJ`へのアクセスは\n",
        "`json_data[\"GET_META_INFO\"][\"METADATA_INF\"][\"CLASS_INF\"][\"CLASS_OBJ\"]`\n",
        "になるため，\n",
        "`CLASS_OBJ`の要素数は次のようにして取得できます．"
      ]
    },
    {
      "cell_type": "code",
      "metadata": {
        "id": "D8GBGB2MhpCb",
        "colab_type": "code",
        "colab": {},
        "outputId": "09f595a4-2805-441a-c60a-a319fdec4790"
      },
      "source": [
        "# 確認用コードにつき，最終プログラムからは削除します\n",
        "print(len(json_data['GET_META_INFO']['METADATA_INF']['CLASS_INF']['CLASS_OBJ']))"
      ],
      "execution_count": 0,
      "outputs": [
        {
          "output_type": "stream",
          "text": [
            "3\n"
          ],
          "name": "stdout"
        }
      ]
    },
    {
      "cell_type": "markdown",
      "metadata": {
        "id": "WY43iKn2hpCe",
        "colab_type": "text"
      },
      "source": [
        "`CLASS_OBJ`の要素数は3個であることがわかりました．\n",
        "\n",
        "`CLASS_OBJ`までのアクセスが長いため，\n",
        "ちょっと扱いが厄介です．\n",
        "`CLASS_OBJ`以下の部分をオブジェクト`class_obj`に切り出します．"
      ]
    },
    {
      "cell_type": "code",
      "metadata": {
        "id": "f_UQN3SFhpCf",
        "colab_type": "code",
        "colab": {}
      },
      "source": [
        "class_obj = json_data['GET_META_INFO']['METADATA_INF']['CLASS_INF']['CLASS_OBJ']"
      ],
      "execution_count": 0,
      "outputs": []
    },
    {
      "cell_type": "markdown",
      "metadata": {
        "id": "DpOPA8PphpCi",
        "colab_type": "text"
      },
      "source": [
        "念のため，いま切り出した`class_obj`の要素数を確認します．"
      ]
    },
    {
      "cell_type": "code",
      "metadata": {
        "id": "u-lnSC1UhpCj",
        "colab_type": "code",
        "colab": {},
        "outputId": "7b473807-32ac-48db-ba52-cad898a0e8ef"
      },
      "source": [
        "# 確認用コードにつき，最終プログラムからは削除します\n",
        "len(class_obj)"
      ],
      "execution_count": 0,
      "outputs": [
        {
          "output_type": "execute_result",
          "data": {
            "text/plain": [
              "3"
            ]
          },
          "metadata": {
            "tags": []
          },
          "execution_count": 22
        }
      ]
    },
    {
      "cell_type": "markdown",
      "metadata": {
        "id": "A_Xe6Qj3hpCn",
        "colab_type": "text"
      },
      "source": [
        "先ほどと同様に3個になっていることが確認できました．\n",
        "ちゃんと切り出しができているようです．"
      ]
    },
    {
      "cell_type": "markdown",
      "metadata": {
        "id": "QYcpA-P9hpCo",
        "colab_type": "text"
      },
      "source": [
        "# CLASS_OBJの確認"
      ]
    },
    {
      "cell_type": "markdown",
      "metadata": {
        "id": "RiW-yGSbhpCp",
        "colab_type": "text"
      },
      "source": [
        "次にオブジェクト`class_obj`に格納した`CLASS_OBJ`の内容を確認していきます．\n",
        "`CLASS_OBJ`はリスト型オブジェクトなので，\n",
        "各要素へのアクセスは`0`から始まる要素番号で指定します．\n",
        "`CLASS_OBJ`の要素数は3個なので，要素番号は`0`，`1`，`2`の3個になります．\n",
        "すなわち，\n",
        "```\n",
        "class_obj[0]\n",
        "class_obj[1]\n",
        "class_obj[2]\n",
        "```\n",
        "になります．\n",
        "簡単に書くと以下のようになります．"
      ]
    },
    {
      "cell_type": "markdown",
      "metadata": {
        "id": "GVP7dOxwhpCp",
        "colab_type": "text"
      },
      "source": [
        "```\n",
        "\"CLASS_OBJ\": [\n",
        "    1個目の要素（class_obj[0]の値）,\n",
        "    2個目の要素（class_obj[1]の値）,\n",
        "    3個目の要素（class_obj[2]の値）\n",
        "]\n",
        "```"
      ]
    },
    {
      "cell_type": "markdown",
      "metadata": {
        "id": "ZYWAW9QNhpCq",
        "colab_type": "text"
      },
      "source": [
        "実際にはCLASS_OBJの各要素は{}で囲まれていることから，\n",
        "ディクショナリ型のオブジェクトが入れ子になっていることがわかります．"
      ]
    },
    {
      "cell_type": "markdown",
      "metadata": {
        "id": "yS8qEjVihpCr",
        "colab_type": "text"
      },
      "source": [
        "```\n",
        "\"CLASS_OBJ\": [\n",
        "    {\n",
        "        1個目の要素（値としてディクショナリ型）\n",
        "    },\n",
        "    {\n",
        "        2個目の要素（値としてディクショナリ型）\n",
        "    },\n",
        "    {\n",
        "        3個目の要素（値としてディクショナリ型）\n",
        "    }\n",
        "]\n",
        "```"
      ]
    },
    {
      "cell_type": "markdown",
      "metadata": {
        "id": "eioO3nVyhpCr",
        "colab_type": "text"
      },
      "source": [
        "それぞれのディクショナリ型の要素の中には何個の要素があるのでしょうか．\n",
        "ディクショナリ型の要素数を知るには，リスト型と同様に`len`関数を使います．\n",
        "リストの1個目にアクセスするためには要素番号を`0`にしますので，\n",
        "要素0から要素2までの要素数は以下のようにして知ることができます．"
      ]
    },
    {
      "cell_type": "code",
      "metadata": {
        "id": "SZbCpexWhpCs",
        "colab_type": "code",
        "colab": {},
        "outputId": "318cadc8-c031-4348-9f38-4a02bc91ce2c"
      },
      "source": [
        "# 確認用コードにつき，最終プログラムからは削除します\n",
        "print(len(class_obj[0]))\n",
        "print(len(class_obj[1]))\n",
        "print(len(class_obj[2]))"
      ],
      "execution_count": 0,
      "outputs": [
        {
          "output_type": "stream",
          "text": [
            "3\n",
            "3\n",
            "3\n"
          ],
          "name": "stdout"
        }
      ]
    },
    {
      "cell_type": "markdown",
      "metadata": {
        "id": "F8fEgJUzhpCu",
        "colab_type": "text"
      },
      "source": [
        "3個ある`CLASS_OBJ`の要素には，それぞれ3個の要素があることがわかりました．\n",
        "それではこの要素にはどのようなキーが含まれているでしょうか．\n",
        "ディクショナリ型オブジェクトのキーを取得するには`keys()`メソッドを使います．\n",
        "使い方は\n",
        "```\n",
        "オブジェクト名.keys()\n",
        "```\n",
        "になります．\n",
        "オブジェクト`class_obj[0]`から`class_obj[2]`のキーを取得するには以下のようにします．"
      ]
    },
    {
      "cell_type": "code",
      "metadata": {
        "id": "v4-dzIuwhpCv",
        "colab_type": "code",
        "colab": {},
        "outputId": "7cd535f9-fd07-40de-f8ef-8f2a8f8a37d3"
      },
      "source": [
        "# 確認用コードにつき，最終プログラムからは削除します\n",
        "print(class_obj[0].keys())\n",
        "print(class_obj[1].keys())\n",
        "print(class_obj[2].keys())"
      ],
      "execution_count": 0,
      "outputs": [
        {
          "output_type": "stream",
          "text": [
            "dict_keys(['@id', '@name', 'CLASS'])\n",
            "dict_keys(['@id', '@name', 'CLASS'])\n",
            "dict_keys(['@id', '@name', 'CLASS'])\n"
          ],
          "name": "stdout"
        }
      ]
    },
    {
      "cell_type": "markdown",
      "metadata": {
        "id": "GmGQ4cFrhpCx",
        "colab_type": "text"
      },
      "source": [
        "3個ある`CLASS_OBJ`の要素（オブジェクト`class_obj[0]`から`class_obj[2]`）には，\n",
        "それぞれ`@name`，`@id`，`CLASS`の3個のキーがあることがわかりました．\n",
        "すなわち，以下のような構造になっています．"
      ]
    },
    {
      "cell_type": "markdown",
      "metadata": {
        "id": "P8dJqQyahpCy",
        "colab_type": "text"
      },
      "source": [
        "```\n",
        "\"CLASS_OBJ\": [\n",
        "    {\n",
        "        \"@id\": \"cat01\", \n",
        "        \"@name\": \"年齢別（５歳階級、４区分）、男女別人口\", \n",
        "        \"CLASS\": [\n",
        "            {\n",
        "・・・途中省略・・・\n",
        "    {\n",
        "        \"@id\": \"cat02\", \n",
        "        \"@name\": \"秘匿地域・合算地域有り\", \n",
        "        \"CLASS\": [\n",
        "            {\n",
        "・・・途中省略・・・\n",
        "    {\n",
        "        \"@id\": \"area\", \n",
        "        \"@name\": \"東京都\", \n",
        "        \"CLASS\": [\n",
        "            {\n",
        "・・・以下省略・・・\n",
        "```"
      ]
    },
    {
      "cell_type": "markdown",
      "metadata": {
        "id": "ttoWaPzwhpCz",
        "colab_type": "text"
      },
      "source": [
        "これらのキーの値を見てみましょう．\n",
        "まずは`@name`キーです．\n",
        "`@name`キーの値を取得するには以下のようにします．"
      ]
    },
    {
      "cell_type": "code",
      "metadata": {
        "id": "fh125YQ4hpCz",
        "colab_type": "code",
        "colab": {},
        "outputId": "4631e9e6-aa09-418a-dffe-8a04d6160d92"
      },
      "source": [
        "# 確認用コードにつき，最終プログラムからは削除します\n",
        "print(class_obj[0]['@name'])\n",
        "print(class_obj[1]['@name'])\n",
        "print(class_obj[2]['@name'])"
      ],
      "execution_count": 0,
      "outputs": [
        {
          "output_type": "stream",
          "text": [
            "年齢別（５歳階級、４区分）、男女別人口\n",
            "秘匿地域・合算地域有り\n",
            "東京都\n"
          ],
          "name": "stdout"
        }
      ]
    },
    {
      "cell_type": "markdown",
      "metadata": {
        "id": "1hzPovbEhpC2",
        "colab_type": "text"
      },
      "source": [
        "`@name`は属性の名称ないしは説明事項（表章事項）を表しているようです．\n",
        "すなわち，\n",
        "`class_obj[0]`は統計表の表章事項のうち年齢別・男女別の階級を，\n",
        "`class_obj[1]`は統計表の表章事項のうち秘匿地域・合算地域を，\n",
        "`class_obj[2]`は統計表の表章事項のうち地域情報を表していそうです．"
      ]
    },
    {
      "cell_type": "markdown",
      "metadata": {
        "id": "jglkfNa-hpC2",
        "colab_type": "text"
      },
      "source": [
        "これを表にまとめてみましょう．"
      ]
    },
    {
      "cell_type": "markdown",
      "metadata": {
        "id": "uawZEjc2hpC3",
        "colab_type": "text"
      },
      "source": [
        "class_obj|`['@name']`\n",
        "-|-\n",
        "`class_obj[0]`|年齢別（５歳階級、４区分）、男女別人口\n",
        "`class_obj[1]`|秘匿地域・合算地域有り\n",
        "`class_obj[2]`|東京都"
      ]
    },
    {
      "cell_type": "markdown",
      "metadata": {
        "id": "J2IIVBIUhpC4",
        "colab_type": "text"
      },
      "source": [
        "次に`@id`キーの値も見てみましょう．"
      ]
    },
    {
      "cell_type": "code",
      "metadata": {
        "id": "Pzb79x2ahpC5",
        "colab_type": "code",
        "colab": {},
        "outputId": "83f912dc-12db-4032-b11c-3b7247fd7114"
      },
      "source": [
        "# 確認用コードにつき，最終プログラムからは削除します\n",
        "print(class_obj[0]['@id'])\n",
        "print(class_obj[1]['@id'])\n",
        "print(class_obj[2]['@id'])"
      ],
      "execution_count": 0,
      "outputs": [
        {
          "output_type": "stream",
          "text": [
            "cat01\n",
            "cat02\n",
            "area\n"
          ],
          "name": "stdout"
        }
      ]
    },
    {
      "cell_type": "markdown",
      "metadata": {
        "id": "sPkp9DwIhpC8",
        "colab_type": "text"
      },
      "source": [
        "`@id`は表章事項を表しているキーのような役割のようです．\n",
        "これも表に追加します．"
      ]
    },
    {
      "cell_type": "markdown",
      "metadata": {
        "id": "lGWVVOSihpC8",
        "colab_type": "text"
      },
      "source": [
        "class_obj|`['@name']`|`['@id']`\n",
        "-|-\n",
        "`class_obj[0]`|年齢別（５歳階級、４区分）、男女別人口|`cat01`\n",
        "`class_obj[1]`|秘匿地域・合算地域有り|`cat02`\n",
        "`class_obj[2]`|東京都|`area`"
      ]
    },
    {
      "cell_type": "markdown",
      "metadata": {
        "id": "RhJD-4nqhpC9",
        "colab_type": "text"
      },
      "source": [
        "# CLASSの確認"
      ]
    },
    {
      "cell_type": "markdown",
      "metadata": {
        "id": "Qy6QDnVyhpDA",
        "colab_type": "text"
      },
      "source": [
        "次に`CLASS`キーです．\n",
        "`CLASS`キーは後ろにスクエアブラケット「`[]`」が続いていることから，\n",
        "値としてリスト型オブジェクトが入っています．\n",
        "例えば年齢別（５歳階級、４区分）、男女別人口（`class_obj[0]`）の場合，\n",
        "以下のような形になっています．"
      ]
    },
    {
      "cell_type": "markdown",
      "metadata": {
        "id": "kcMkc-ePhpDB",
        "colab_type": "text"
      },
      "source": [
        "```\n",
        "{\n",
        "    \"@id\": \"cat01\", \n",
        "    \"@name\": \"年齢別（５歳階級、４区分）、男女別人口\", \n",
        "    \"CLASS\": [\n",
        "        {\n",
        "            要素\n",
        "        },\n",
        "        {\n",
        "            要素\n",
        "        },\n",
        "        {\n",
        "            要素\n",
        "        },\n",
        "・・・以下省略・・・\n",
        "    ]\n",
        "}\n",
        "```"
      ]
    },
    {
      "cell_type": "markdown",
      "metadata": {
        "id": "PejbWzzlhpDC",
        "colab_type": "text"
      },
      "source": [
        "`CLASS`キーの要素はブレース「`{}`」で囲まれていることから，\n",
        "これらの要素はディクショナリ型オブジェクトであることがわかります．"
      ]
    },
    {
      "cell_type": "markdown",
      "metadata": {
        "id": "8nDTMFPbhpDC",
        "colab_type": "text"
      },
      "source": [
        "# 年齢別・男女別カテゴリについて"
      ]
    },
    {
      "cell_type": "markdown",
      "metadata": {
        "id": "uTfFu-UyhpDD",
        "colab_type": "text"
      },
      "source": [
        "年齢別・男女別のカテゴリを表している\n",
        "`class_obj[0][\"CLASS\"]`の要素を見てみます．\n",
        "このキー`CLASS`の値にはいくつの要素があるのでしょうか．\n",
        "`len()`関数を用いて確認してみます．"
      ]
    },
    {
      "cell_type": "code",
      "metadata": {
        "id": "DUkEKuTohpDE",
        "colab_type": "code",
        "colab": {},
        "outputId": "67beb6f0-b10f-415c-d9f7-700e4826d344"
      },
      "source": [
        "# 確認用コードにつき，最終プログラムからは削除します\n",
        "len(class_obj[0]['CLASS'])"
      ],
      "execution_count": 0,
      "outputs": [
        {
          "output_type": "execute_result",
          "data": {
            "text/plain": [
              "60"
            ]
          },
          "metadata": {
            "tags": []
          },
          "execution_count": 27
        }
      ]
    },
    {
      "cell_type": "markdown",
      "metadata": {
        "id": "Hm4n5WnIhpDG",
        "colab_type": "text"
      },
      "source": [
        "60個ありました．\n",
        "すべてを表示するには数が多いため，\n",
        "最初の要素のみ表示してみます．"
      ]
    },
    {
      "cell_type": "code",
      "metadata": {
        "id": "qSUq0l6ChpDG",
        "colab_type": "code",
        "colab": {},
        "outputId": "9f8dd1d8-104c-4fac-b3a6-72188cb51ee3"
      },
      "source": [
        "# 確認用コードにつき，最終プログラムからは削除します\n",
        "print(json.dumps(class_obj[0]['CLASS'][0], ensure_ascii = False, indent = 4))"
      ],
      "execution_count": 0,
      "outputs": [
        {
          "output_type": "stream",
          "text": [
            "{\n",
            "    \"@code\": \"T000573001\",\n",
            "    \"@name\": \"総数、年齢「不詳」含む\",\n",
            "    \"@level\": \"2\",\n",
            "    \"@unit\": \"人\"\n",
            "}\n"
          ],
          "name": "stdout"
        }
      ]
    },
    {
      "cell_type": "markdown",
      "metadata": {
        "id": "bzl44zfKhpDJ",
        "colab_type": "text"
      },
      "source": [
        "2番目と最後の要素も確認してみましょう"
      ]
    },
    {
      "cell_type": "code",
      "metadata": {
        "id": "IOQ9_HBdhpDJ",
        "colab_type": "code",
        "colab": {},
        "outputId": "c0140a15-7b2b-439b-e639-4c5cf1b7c5f7"
      },
      "source": [
        "# 確認用コードにつき，最終プログラムからは削除します\n",
        "print(json.dumps(class_obj[0]['CLASS'][1], ensure_ascii = False, indent = 4))\n",
        "print(json.dumps(class_obj[0]['CLASS'][59], ensure_ascii = False, indent = 4))"
      ],
      "execution_count": 0,
      "outputs": [
        {
          "output_type": "stream",
          "text": [
            "{\n",
            "    \"@code\": \"T000573002\",\n",
            "    \"@name\": \"総数０～４歳\",\n",
            "    \"@level\": \"2\",\n",
            "    \"@unit\": \"人\"\n",
            "}\n",
            "{\n",
            "    \"@code\": \"T000573060\",\n",
            "    \"@name\": \"女７５歳以上\",\n",
            "    \"@level\": \"2\",\n",
            "    \"@unit\": \"人\"\n",
            "}\n"
          ],
          "name": "stdout"
        }
      ]
    },
    {
      "cell_type": "markdown",
      "metadata": {
        "id": "lIWqWzILhpDL",
        "colab_type": "text"
      },
      "source": [
        "`class_obj[0][\"CLASS\"]`は年齢別・男女別のカテゴリを表しているようです．\n",
        "すなわち，「年齢別（５歳階級，４区分），男女別人口」というカテゴリの\n",
        "すべてのカテゴリがリストとして格納されており，その数は60個であることがわかります．\n",
        "e-Statからダウンロードした年齢別（５歳階級，４区分），男女別人口の定義書（**T000573.pdf**）に合わせてみると，\n",
        "キー`@level`は項目の「階層」を表しており，このデータ（年齢別（５歳階級，４区分），男女別人口）の場合はすべて`2`になっています．\n",
        "キー`@code`は年齢別・男女別のコードを表しており，定義書の「連番」に相当します．\n",
        "キー`@name`は定義書の「項目名」であり，\n",
        "キー`@unit`は「単位」に相当します．\n",
        "\n",
        "これも表に追加してみましょう．"
      ]
    },
    {
      "cell_type": "markdown",
      "metadata": {
        "id": "UTdZ5EkthpDM",
        "colab_type": "text"
      },
      "source": [
        "class_obj|`['@name']`|`['@id']`|`['CLASS']`\n",
        "-|-\n",
        "`class_obj[0]`|年齢別（５歳階級、４区分）、男女別人口|`cat01`|年齢別・男女別のカテゴリ（60個），`@code`は「連番」，`@name`は「項目名」，`@unit`は「単位」\n",
        "`class_obj[1]`|秘匿地域・合算地域有り|`cat02`|\n",
        "`class_obj[2]`|東京都|`area`|"
      ]
    },
    {
      "cell_type": "markdown",
      "metadata": {
        "id": "MXbIHlGAhpDM",
        "colab_type": "text"
      },
      "source": [
        "# 秘匿・合算地域情報について"
      ]
    },
    {
      "cell_type": "markdown",
      "metadata": {
        "id": "UlZQyINthpDN",
        "colab_type": "text"
      },
      "source": [
        "次に`class_obj[1][\"CLASS\"]`を確認してみます．\n",
        "`class_obj[1]`は秘匿地域・合算地域の情報でした．\n",
        "これは以下のようになっています．"
      ]
    },
    {
      "cell_type": "markdown",
      "metadata": {
        "id": "PaCbMGXYhpDN",
        "colab_type": "text"
      },
      "source": [
        "```\n",
        "{\n",
        "    \"@id\": \"cat02\", \n",
        "    \"@name\": \"秘匿地域・合算地域有り\", \n",
        "    \"CLASS\": [\n",
        "```"
      ]
    },
    {
      "cell_type": "markdown",
      "metadata": {
        "id": "ET-BWdCwhpDO",
        "colab_type": "text"
      },
      "source": [
        "`len()`関数を用いて`class_obj[1][\"CLASS\"]`の要素数を確認します．"
      ]
    },
    {
      "cell_type": "code",
      "metadata": {
        "id": "I04pPM__hpDP",
        "colab_type": "code",
        "colab": {},
        "outputId": "b9f0b305-7274-49e6-df40-a419bdbffe6c"
      },
      "source": [
        "# 確認用コードにつき，最終プログラムからは削除します\n",
        "len(class_obj[1]['CLASS'])"
      ],
      "execution_count": 0,
      "outputs": [
        {
          "output_type": "execute_result",
          "data": {
            "text/plain": [
              "3"
            ]
          },
          "metadata": {
            "tags": []
          },
          "execution_count": 30
        }
      ]
    },
    {
      "cell_type": "markdown",
      "metadata": {
        "id": "4gXW8z71hpDS",
        "colab_type": "text"
      },
      "source": [
        "3個あることがわかりました．\n",
        "次にそれぞれの要素を見ていきます．"
      ]
    },
    {
      "cell_type": "code",
      "metadata": {
        "id": "oy5kd47KhpDS",
        "colab_type": "code",
        "colab": {},
        "outputId": "c2dd5abd-104d-425d-d7d9-a11d118d12b1"
      },
      "source": [
        "# 確認用コードにつき，最終プログラムからは削除します\n",
        "print(json.dumps(class_obj[1]['CLASS'][0], ensure_ascii = False, indent = 4))\n",
        "print(json.dumps(class_obj[1]['CLASS'][1], ensure_ascii = False, indent = 4))\n",
        "print(json.dumps(class_obj[1]['CLASS'][2], ensure_ascii = False, indent = 4))"
      ],
      "execution_count": 0,
      "outputs": [
        {
          "output_type": "stream",
          "text": [
            "{\n",
            "    \"@code\": \"1\",\n",
            "    \"@name\": \"無し\",\n",
            "    \"@level\": \"1\"\n",
            "}\n",
            "{\n",
            "    \"@code\": \"2\",\n",
            "    \"@name\": \"合算\",\n",
            "    \"@level\": \"1\"\n",
            "}\n",
            "{\n",
            "    \"@code\": \"3\",\n",
            "    \"@name\": \"秘匿\",\n",
            "    \"@level\": \"1\"\n",
            "}\n"
          ],
          "name": "stdout"
        }
      ]
    },
    {
      "cell_type": "markdown",
      "metadata": {
        "id": "FOyfX3HMhpDV",
        "colab_type": "text"
      },
      "source": [
        "この結果から，`class_obj[1][\"CLASS\"][0]`から`class_obj[1][\"CLASS\"][2]`には\n",
        "それぞれ`@level`，`@code`，`@name`の3個の要素があることがわかります．\n",
        "`@level`はすべて1であることから，無視しても構わないでしょう．\n",
        "`@code`は数値が入っており，`@name`は説明が入っているようです．\n",
        "すなわち，`@code`が`1`の場合には秘匿地域ではない通常の地域で，\n",
        "`2`の場合は合算地域（他の秘匿地域の値が合算されている）であることを示し，\n",
        "`3`の場合は秘匿地域であることを示しています．\n",
        "これも表に追加します．"
      ]
    },
    {
      "cell_type": "markdown",
      "metadata": {
        "id": "UHGYZG2_hpDW",
        "colab_type": "text"
      },
      "source": [
        "class_obj|`['@name']`|`['@id']`|`['CLASS']`\n",
        "-|-\n",
        "`class_obj[0]`|年齢別（５歳階級、４区分）、男女別人口|`cat01`|年齢別・男女別のカテゴリ（60個），`@code`は「連番」，`@name`は「項目名」，`@unit`は「単位」\n",
        "`class_obj[1]`|秘匿地域・合算地域有り|`cat02`|`@code`が`1`：通常の地域，`2`：合算されている地域，`3`：秘匿地域\n",
        "`class_obj[2]`|東京都|`area`|"
      ]
    },
    {
      "cell_type": "markdown",
      "metadata": {
        "id": "Ns1uHHcJhpDW",
        "colab_type": "text"
      },
      "source": [
        ">秘匿地域とは，人口や世帯が極端に少ない地域の場合，統計情報から個人の情報が推定できることを避けるため意図的に値を隠している（0が入っている）地域のことを示します．統計値の矛盾を避けるために秘匿地域の情報は別の地域に合算されており，秘匿地域の値が合算されている地域のことを合算地域と呼びます．基本的に秘匿地域と合算地域は隣接しています．"
      ]
    },
    {
      "cell_type": "markdown",
      "metadata": {
        "id": "qxFAo0wEhpDX",
        "colab_type": "text"
      },
      "source": [
        "後で使うため，秘匿・合算地域情報をディクショナリ型のオブジェクト`htk_obj`に代入しておきます．"
      ]
    },
    {
      "cell_type": "code",
      "metadata": {
        "id": "SiHcndBShpDY",
        "colab_type": "code",
        "colab": {}
      },
      "source": [
        "htk_obj = class_obj[1]['CLASS']"
      ],
      "execution_count": 0,
      "outputs": []
    },
    {
      "cell_type": "markdown",
      "metadata": {
        "id": "CybBcqA6hpDb",
        "colab_type": "text"
      },
      "source": [
        "#  地域情報について"
      ]
    },
    {
      "cell_type": "markdown",
      "metadata": {
        "id": "hfkUxw_ihpDc",
        "colab_type": "text"
      },
      "source": [
        "最後に`class_obj[2]`を確認します．\n",
        "`class_obj[2]`は地域情報を表しています．\n",
        "これは以下のようになっています．"
      ]
    },
    {
      "cell_type": "markdown",
      "metadata": {
        "id": "8GWi4MKxhpDd",
        "colab_type": "text"
      },
      "source": [
        "```\n",
        "{\n",
        "    \"@id\": \"area\", \n",
        "    \"@name\": \"東京都\", \n",
        "    \"CLASS\": [\n",
        "        {\n",
        "            \"@code\": \"13101\", \n",
        "            \"@level\": \"1\", \n",
        "            \"@name\": \"千代田区\"\n",
        "        }, \n",
        "        {\n",
        "            \"@code\": \"131010010\", \n",
        "            \"@level\": \"2\", \n",
        "            \"@name\": \"千代田区丸の内\"\n",
        "        }, \n",
        "```"
      ]
    },
    {
      "cell_type": "markdown",
      "metadata": {
        "id": "OzDlaEhyhpDd",
        "colab_type": "text"
      },
      "source": [
        "地域情報も年齢別・男女別カテゴリや秘匿・合算地域と同様に`@id`，`@name`，`CLASS`の3個の要素から構成されています．\n",
        "こちらも`len()`関数を用いて`class_obj[2][\"CLASS\"]`の要素数を確認します．"
      ]
    },
    {
      "cell_type": "code",
      "metadata": {
        "id": "52pFvIkChpDg",
        "colab_type": "code",
        "colab": {},
        "outputId": "7db8dd3f-eabd-42f3-e48e-2f94fc559b67"
      },
      "source": [
        "# 確認用コードにつき，最終プログラムからは削除します\n",
        "len(class_obj[2]['CLASS'])"
      ],
      "execution_count": 0,
      "outputs": [
        {
          "output_type": "execute_result",
          "data": {
            "text/plain": [
              "6781"
            ]
          },
          "metadata": {
            "tags": []
          },
          "execution_count": 33
        }
      ]
    },
    {
      "cell_type": "markdown",
      "metadata": {
        "id": "2fDMIpvEhpDj",
        "colab_type": "text"
      },
      "source": [
        "要素数は6781個もありました．\n",
        "東京都の小地域データには6781個の地域があるようです．\n",
        "チェックのため最初の3個だけを表示してみます．"
      ]
    },
    {
      "cell_type": "code",
      "metadata": {
        "scrolled": true,
        "id": "k6AdwvBrhpDk",
        "colab_type": "code",
        "colab": {},
        "outputId": "66363077-474a-436b-a0bf-9b9b0ffebece"
      },
      "source": [
        "# 確認用コードにつき，最終プログラムからは削除します\n",
        "print(json.dumps(class_obj[2]['CLASS'][0], ensure_ascii = False, indent = 4))\n",
        "print(json.dumps(class_obj[2]['CLASS'][1], ensure_ascii = False, indent = 4))\n",
        "print(json.dumps(class_obj[2]['CLASS'][2], ensure_ascii = False, indent = 4))"
      ],
      "execution_count": 0,
      "outputs": [
        {
          "output_type": "stream",
          "text": [
            "{\n",
            "    \"@code\": \"13101\",\n",
            "    \"@name\": \"千代田区\",\n",
            "    \"@level\": \"1\"\n",
            "}\n",
            "{\n",
            "    \"@code\": \"131010010\",\n",
            "    \"@name\": \"千代田区丸の内\",\n",
            "    \"@level\": \"2\"\n",
            "}\n",
            "{\n",
            "    \"@code\": \"13101001001\",\n",
            "    \"@name\": \"千代田区丸の内１丁目\",\n",
            "    \"@level\": \"3\"\n",
            "}\n"
          ],
          "name": "stdout"
        }
      ]
    },
    {
      "cell_type": "markdown",
      "metadata": {
        "id": "-jKnF0sxhpDq",
        "colab_type": "text"
      },
      "source": [
        "この結果から，`class_obj[2][\"CLASS\"]`の各要素には\n",
        "それぞれ`@level`，`@code`，`@name`の3個の要素があることがわかります．\n",
        "`@level`は1から3の値が，\n",
        "`@code`は数値が，\n",
        "`@name`は地名が入っているようです．\n",
        "これらの値はデータは何を示しているのでしょうか．\n",
        "\n",
        "冒頭で見せたe-Statからダウンロードした東京都の小地域データ（**tblT000573C13101.xlsx**）と対比してみると，\n",
        "キー`@level`は列`HYOSYO`と同じであり，小地域のレベルを示していると考えられます．\n",
        "すなわちキー`@level`が`1`だと区（市区町村）レベルを，`2`だと町レベルを，`3`だと丁目レベルをそれぞれ表しています．\n",
        "これに対応して，キー`@code`は全国の町丁目を表すユニーク値である列`KEY_CODE`，すなわち行政コードであり，\n",
        "キー`@name`が実際の市区町村・町丁目の名称となっています．この結果を表に追加しましょう．"
      ]
    },
    {
      "cell_type": "markdown",
      "metadata": {
        "id": "mjamX1yohpDq",
        "colab_type": "text"
      },
      "source": [
        "class_obj|`['@name']`|`['@id']`|`['CLASS']`\n",
        "-|-\n",
        "`class_obj[0]`|年齢別（５歳階級、４区分）、男女別人口|`cat01`|年齢別・男女別のカテゴリ（60個），`@code`は「連番」，`@name`は「項目名」，`@unit`は「単位」\n",
        "`class_obj[1]`|秘匿地域・合算地域有り|`cat02`|`@code`が`1`：通常の地域，`2`：合算されている地域，`3`：秘匿地域\n",
        "`class_obj[2]`|東京都|`area`|`@level`は小地域のレベル（`HYOSYO`と同一），`@code`は行政コード（`KEY_CODE`と同一），`@name`は市区町村・町丁目の名称"
      ]
    },
    {
      "cell_type": "markdown",
      "metadata": {
        "id": "x81ZKMmdhpDr",
        "colab_type": "text"
      },
      "source": [
        "後で使うため，地域情報をディクショナリ型のオブジェクト`area_obj`に代入しておきます．"
      ]
    },
    {
      "cell_type": "code",
      "metadata": {
        "id": "1lNXhVhjhpDs",
        "colab_type": "code",
        "colab": {}
      },
      "source": [
        "area_obj = class_obj[2]['CLASS']"
      ],
      "execution_count": 0,
      "outputs": []
    },
    {
      "cell_type": "markdown",
      "metadata": {
        "id": "SSG6eqymhpDu",
        "colab_type": "text"
      },
      "source": [
        "これでメタデータの解釈が終わりました．"
      ]
    },
    {
      "cell_type": "markdown",
      "metadata": {
        "id": "hmXFTMYyhpDu",
        "colab_type": "text"
      },
      "source": [
        "# 表の列名データの作成"
      ]
    },
    {
      "cell_type": "markdown",
      "metadata": {
        "id": "5cni0VkWhpDv",
        "colab_type": "text"
      },
      "source": [
        "実際にデータをダウンロードした後，どのような型式に整形するのがよいでしょうか．\n",
        "一つの考え方としては，\n",
        "通常のe-Statを利用したときにダウンロードできる型式に近いものにするのがよいのかもしれません．\n",
        "\n",
        "e-Statからダウンロードした小地域データは以下のような構造をしています．\n",
        "**tblT000573C13101.xlsx**を参照してみてください．"
      ]
    },
    {
      "cell_type": "markdown",
      "metadata": {
        "id": "ibziPdPihpDw",
        "colab_type": "text"
      },
      "source": [
        "KEY_CODE|HYOSYO|CITYNAME|NAME|HTKSYORI|HTKSAKI|GASSAN|T000573001|T000573002|省略|T000573060\n",
        "-------:|-----:|:-------|:---|:-------|------:|-----:|---------:|---------:|:--:|---------:\n",
        "|||||||総数、年齢「不詳」含む|総数０〜４歳|・・・|女７５歳以上\n",
        "13101|1|千代田区|||||47115|1688|・・・|2882\n",
        "131010010|2|千代田区|丸の内||||X|X|・・・|X\n",
        "13101001001|3|千代田区|丸の内１丁目|秘匿地域|140||X|X|・・・|X"
      ]
    },
    {
      "cell_type": "markdown",
      "metadata": {
        "id": "8QT0F8Y_hpDw",
        "colab_type": "text"
      },
      "source": [
        "左の列から`KEY_CODE`（行政コード），`HYOSYO`（小地域のレベル），`CITYNAME`（市区町村名）と`NAME`（小地域名），`HTKSYORI`（秘匿地域・合算地域の有無），`HTKSAKI`（秘匿地域の場合どの地域に合算しているか），`GASSAN`（合算地域の場合どの地域を合算しているか），`T000573001`から`T000573060`（年齢別・男女別のカテゴリ）となっています．\n",
        "\n",
        "この表の1行目，すなわち列名の部分をリスト型のオブジェクト`col_name`に入れてみます．\n",
        "まずは`KEY_CODE`から`GASSAN`までです．"
      ]
    },
    {
      "cell_type": "code",
      "metadata": {
        "id": "F0T4rVZ-hpDx",
        "colab_type": "code",
        "colab": {}
      },
      "source": [
        "# 確認用コードにつき，最終プログラムからは削除します\n",
        "col_name = [\n",
        "    u'KEY_CODE', u'HYOSYO', u'CITYNAME', u'NAME', u'HTKSYORI', u'HTKSAKI', u'GASSAN'\n",
        "]"
      ],
      "execution_count": 0,
      "outputs": []
    },
    {
      "cell_type": "markdown",
      "metadata": {
        "id": "CTQUZ-TRhpD0",
        "colab_type": "text"
      },
      "source": [
        "単純な文字列のリストです．\n",
        "クオーテーションマークの前の「`u`」は，\n",
        "この文字列がユニコードであることを明示しています．\n",
        "\n",
        "次に男女別・年齢別のカテゴリ名の部分です．\n",
        "`T000573001`から`T000573060`までは`class_obj[0]['CLASS'][0]['@code']`から\n",
        "`class_obj[0]['CLASS'][59]['@code']`に入っているため，\n",
        "この部分を`col_name`の後ろに追加します．\n",
        "\n",
        "0から59までの要素番号は1ずつ大きくなるため，\n",
        "`for`ループを使ってすべての要素を順にアクセスします．\n",
        "`for`ループの書式は以下です．\n",
        "\n",
        "```\n",
        "for i in range(60):\n",
        "    print(class_obj[0]['CLASS'][i]['@code'])\n",
        "```"
      ]
    },
    {
      "cell_type": "markdown",
      "metadata": {
        "id": "7JxmDByihpD0",
        "colab_type": "text"
      },
      "source": [
        "`for`ループはリスト型などのシーケンスオブジェクトから順次要素を取りだし，\n",
        "要素値を変数に入れて要素の数だけループを行います．\n",
        "ここではシーケンスオブジェクトとして`range`関数を用いています．\n",
        "\n",
        "`range`関数は引数で与えられた範囲の整数値をリストとして返す関数です．\n",
        "引数がひとつだけの場合は0から値-1までの整数を返します．\n",
        "この場合は0から59（60ではありません）になります．\n",
        "`for`文は`range`関数で作成された値を一つずつ変数`i`に入れループを実行します．\n",
        "つまり，ループの中で`class_obj[0]['CLASS'][i]['@code']`とすることにより，\n",
        "`class_obj[0]['CLASS'][0]['@code']`から`class_obj[0]['CLASS'][59]['@code']`\n",
        "まで順次アクセスすることができます．\n",
        "\n",
        "リストに値を追加するには，リスト型オブジェクトに対して`append`メソッドを使います．\n",
        "以下で実際にコードを実行してみます．"
      ]
    },
    {
      "cell_type": "code",
      "metadata": {
        "id": "97dnLiGbhpD1",
        "colab_type": "code",
        "colab": {}
      },
      "source": [
        "# 確認用コードにつき，最終プログラムからは削除します\n",
        "for i in range(60):\n",
        "    col_name.append(class_obj[0]['CLASS'][i]['@code'])"
      ],
      "execution_count": 0,
      "outputs": []
    },
    {
      "cell_type": "markdown",
      "metadata": {
        "id": "mf-lgt1ZhpD2",
        "colab_type": "text"
      },
      "source": [
        "値が入っているか確認してみましょう．"
      ]
    },
    {
      "cell_type": "code",
      "metadata": {
        "id": "KhHankCkhpD3",
        "colab_type": "code",
        "colab": {}
      },
      "source": [
        "# 確認用コードにつき，最終プログラムからは削除します\n",
        "#col_name"
      ],
      "execution_count": 0,
      "outputs": []
    },
    {
      "cell_type": "markdown",
      "metadata": {
        "id": "56aDnxrDhpD5",
        "colab_type": "text"
      },
      "source": [
        "年齢別・男女別カテゴリの数は60個ですが，\n",
        "これは`class_obj[0]['CLASS']`の要素数になります．\n",
        "すなわち`len(class_obj[0]['CLASS'])`で要素数を取得できます．\n",
        "これを利用してコードを変更します．"
      ]
    },
    {
      "cell_type": "code",
      "metadata": {
        "id": "P_NQwT4vhpD6",
        "colab_type": "code",
        "colab": {}
      },
      "source": [
        "col_name = [\n",
        "    u'KEY_CODE', u'HYOSYO', u'CITYNAME', u'NAME', u'HTKSYORI', u'HTKSAKI', u'GASSAN'\n",
        "]\n",
        "for i in range(len(class_obj[0]['CLASS'])):\n",
        "    col_name.append(class_obj[0]['CLASS'][i]['@code'])"
      ],
      "execution_count": 0,
      "outputs": []
    },
    {
      "cell_type": "markdown",
      "metadata": {
        "id": "lMAFHzHchpD8",
        "colab_type": "text"
      },
      "source": [
        "こちらも値が入っているか確認してみます．"
      ]
    },
    {
      "cell_type": "code",
      "metadata": {
        "scrolled": true,
        "id": "UhSvDhVNhpD9",
        "colab_type": "code",
        "colab": {}
      },
      "source": [
        "# 確認用コードにつき，最終プログラムからは削除します\n",
        "#col_name"
      ],
      "execution_count": 0,
      "outputs": []
    },
    {
      "cell_type": "markdown",
      "metadata": {
        "id": "83jyKD-MhpD-",
        "colab_type": "text"
      },
      "source": [
        "```\n",
        "[u'KEY_CODE',\n",
        " u'HYOSYO',\n",
        " u'CITYNAME',\n",
        " u'NAME',\n",
        " u'HTKSYORI',\n",
        " u'HTKSAKI',\n",
        " u'GASSAN',\n",
        " u'T000573001',\n",
        " u'T000573002',\n",
        "・・・以下省略・・・\n",
        "```"
      ]
    },
    {
      "cell_type": "markdown",
      "metadata": {
        "id": "PK667dTihpD_",
        "colab_type": "text"
      },
      "source": [
        "うまくいったようです．"
      ]
    },
    {
      "cell_type": "markdown",
      "metadata": {
        "id": "A7iI6CwKhpEA",
        "colab_type": "text"
      },
      "source": [
        "# 表の枠組み（行と列）の作成"
      ]
    },
    {
      "cell_type": "markdown",
      "metadata": {
        "id": "hdrBuvO1hpEE",
        "colab_type": "text"
      },
      "source": [
        "次に統計表本体の枠組みを作ります．\n",
        "統計表の1行は一つの小地域を表していますので，\n",
        "小地域コードをキー名，統計表の列を値としたディクショナリ型で表すことができます．\n",
        "具体的には以下のようなディクショナリ型のオブジェクト`stat_tab`を作成してみます．"
      ]
    },
    {
      "cell_type": "markdown",
      "metadata": {
        "id": "jsgkGLREhpEF",
        "colab_type": "text"
      },
      "source": [
        "```\n",
        "stat_tab = {\n",
        "    小地域コード（\"KEY_CODE\"）: {\n",
        "        小地域コード（\"KEY_CODE\"）: 値,\n",
        "        自治体レベル（\"HYOSYO\"）: 値,\n",
        "        市区町村名（\"CITYNAME\"): 値,\n",
        "        小地域名（\"NAME\"): 値,\n",
        "        秘匿・合算の有無（\"HTKSYORI\"）: 値,\n",
        "        秘匿先（\"HTKSAKI\"）: 値,\n",
        "        合算元（\"GASSAN\"）: 値,\n",
        "        年齢別・男女別人口のコード（class_obj[0][\"CLASS\"][i][\"@code\"]の値）: 値,\n",
        "            これを年齢別・男女別人口のカテゴリ数だけ繰り返す（60個）\n",
        "    },\n",
        "・・・これを小地域の数繰り返す・・・\n",
        "}\n",
        "```       "
      ]
    },
    {
      "cell_type": "markdown",
      "metadata": {
        "id": "qOjI-N4yhpEG",
        "colab_type": "text"
      },
      "source": [
        "試しに最初の小地域のディクショナリオブジェクトを作成します．\n",
        "最初の小地域のメタ情報は`class_obj[2][\"CLASS\"][0]`に入っており，\n",
        "小地域コードは`class_obj[2][\"CLASS\"][0][\"@code\"]`になります．\n",
        "以下のコードを実行することにより，\n",
        "小地域コードをキーに持つディクショナリの要素を作成することができます．"
      ]
    },
    {
      "cell_type": "code",
      "metadata": {
        "id": "clfRmPYyhpEG",
        "colab_type": "code",
        "colab": {}
      },
      "source": [
        "# 確認用コードにつき，最終プログラムからは削除します\n",
        "stat_tab = {}\n",
        "stat_tab[class_obj[2]['CLASS'][0]['@code']]={}"
      ],
      "execution_count": 0,
      "outputs": []
    },
    {
      "cell_type": "markdown",
      "metadata": {
        "id": "6tBdUC5UhpEH",
        "colab_type": "text"
      },
      "source": [
        "まず空のディクショナリ型オブジェクト`stat_obj`を作成します．\n",
        "次に`stat_tab`の要素である`class_obj[2][\"CLASS\"][0][\"@code\"]`の中に，\n",
        "さらに空のディクショナリオブジェクトを作成します．\n",
        "ここで要素のキーとして参照している`class_obj[2][\"CLASS\"][0][\"@code\"]`は\n",
        "小地域のコード番号になります．\n",
        "\n",
        "最初の小地域のコード番号は`13101`になりますので，\n",
        "`stat_tab[class_obj[2][\"CLASS\"][0][\"@code\"]]`は\n",
        "`stat_tab[\"13101\"]`を示しています．\n",
        "\n",
        "オブジェクト`stat_tab`は空のディクショナリ型オブジェクトとして作成したばかりですので，\n",
        "キー`stat_tab[\"13101\"]`は存在していません．\n",
        "存在していないキーに対してアクセスを行うと，\n",
        "そのキーを持つ要素が生成されます．\n",
        "うまく要素が生成されたか確認してみます．"
      ]
    },
    {
      "cell_type": "code",
      "metadata": {
        "id": "uR2dCE_ohpEI",
        "colab_type": "code",
        "colab": {},
        "outputId": "bb09ded8-5cb2-4c25-89ea-eb6148910cbf"
      },
      "source": [
        "# 確認用コードにつき，最終プログラムからは削除します\n",
        "stat_tab"
      ],
      "execution_count": 0,
      "outputs": [
        {
          "output_type": "execute_result",
          "data": {
            "text/plain": [
              "{'13101': {}}"
            ]
          },
          "metadata": {
            "tags": []
          },
          "execution_count": 42
        }
      ]
    },
    {
      "cell_type": "markdown",
      "metadata": {
        "id": "wYqUS0FFhpEK",
        "colab_type": "text"
      },
      "source": [
        "オブジェクト`stat_tab`は要素が一つだけのディクショナリ型のオブジェクトになっています．\n",
        "要素のキーは最初の小地域のコードである`13101`で，\n",
        "その値は空白のディクショナリ型オブジェクトです．"
      ]
    },
    {
      "cell_type": "markdown",
      "metadata": {
        "id": "yYvYKbp6hpEK",
        "colab_type": "text"
      },
      "source": [
        "次に空白のディクショナリ型オブジェクトに入れるための要素`f_obj`を作成しましょう．\n",
        "実はこの要素のキーは，統計表の列名を表しているリスト型オブジェクト`col_name`とまったく同じですので，\n",
        "これを利用して`f_obj`を作成します．"
      ]
    },
    {
      "cell_type": "code",
      "metadata": {
        "id": "Bgn6_ORdhpEL",
        "colab_type": "code",
        "colab": {}
      },
      "source": [
        "# 確認用コードにつき，最終プログラムからは削除します\n",
        "f_obj = {i: u'' for i in col_name}"
      ],
      "execution_count": 0,
      "outputs": []
    },
    {
      "cell_type": "markdown",
      "metadata": {
        "id": "xIOF9VpDhpEM",
        "colab_type": "text"
      },
      "source": [
        "オブジェクト名`f_obj`の後ろにブレースが来ていることから，\n",
        "`f_obj`はディクショナリ型オブジェクトとして作られています．\n",
        "このオブジェクトの値は内包表記という仕組みを用いて作成しています．\n",
        "ディクショナリ型オブジェクトの要素は\n",
        "キーと値をコロンでつなげ，カンマで区切って羅列します．\n",
        "この場合，キーにはオブジェクト`i`の値が入り，\n",
        "値としては`u\"\"`が入ります．\n",
        "`u\"\"`ははユニコード型の文字列として表現したヌル文字（空白の文字）を表現しています．\n",
        "実際にデータを取ってこないと値はわからないため，\n",
        "初期値としてヌル文字を入れいています．\n",
        "\n",
        "オブジェクト`i`は，後ろに続く`for i in col_name`によって\n",
        "オブジェクト`col_name`の要素を順に`i`に入れていきます．\n",
        "\n",
        "オブジェクト`f_obj`がちゃんと作成されたか確認してみます．"
      ]
    },
    {
      "cell_type": "code",
      "metadata": {
        "id": "TzquD290hpEN",
        "colab_type": "code",
        "colab": {}
      },
      "source": [
        "# 確認用コードにつき，最終プログラムからは削除します\n",
        "#f_obj"
      ],
      "execution_count": 0,
      "outputs": []
    },
    {
      "cell_type": "markdown",
      "metadata": {
        "id": "KdM3DnVJhpEO",
        "colab_type": "text"
      },
      "source": [
        "```\n",
        "{u'CITYNAME': u'',\n",
        " u'GASSAN': u'',\n",
        " u'HTKSAKI': u'',\n",
        " u'HTKSYORI': u'',\n",
        " u'HYOSYO': u'',\n",
        " u'KEY_CODE': u'',\n",
        " u'NAME': u'',\n",
        " u'T000573001': u'',\n",
        " ・・・途中省略・・・\n",
        " u'T000573060': u''}\n",
        "```"
      ]
    },
    {
      "cell_type": "markdown",
      "metadata": {
        "id": "KUWK85CbhpEP",
        "colab_type": "text"
      },
      "source": [
        "順番は一部変わっていますが，\n",
        "`KEY_CODE`から`GASSAN`までと`T000573001`から`T000573060`までが\n",
        "オブジェクト`f_obj`の要素として加わっており，\n",
        "値はすべてヌル文字になっていることが確認できます．\n",
        "\n",
        "それではオブジェクト`stat_tab`に`f_obj`を加えていきましょう．"
      ]
    },
    {
      "cell_type": "code",
      "metadata": {
        "id": "VAQr-5K2hpEP",
        "colab_type": "code",
        "colab": {}
      },
      "source": [
        "# 確認用コードにつき，最終プログラムからは削除します\n",
        "stat_tab[class_obj[2]['CLASS'][0]['@code']] = f_obj"
      ],
      "execution_count": 0,
      "outputs": []
    },
    {
      "cell_type": "markdown",
      "metadata": {
        "id": "US_yAutMhpER",
        "colab_type": "text"
      },
      "source": [
        "`stat_tab`を確認します．"
      ]
    },
    {
      "cell_type": "code",
      "metadata": {
        "id": "pCDcgi7KhpES",
        "colab_type": "code",
        "colab": {}
      },
      "source": [
        "# 確認用コードにつき，最終プログラムからは削除します\n",
        "#stat_tab"
      ],
      "execution_count": 0,
      "outputs": []
    },
    {
      "cell_type": "markdown",
      "metadata": {
        "id": "dvppAFauhpEW",
        "colab_type": "text"
      },
      "source": [
        "```\n",
        "{u'13101': {u'CITYNAME': u'',\n",
        "  u'GASSAN': u'',\n",
        "  u'HTKSAKI': u'',\n",
        "  u'HTKSYORI': u'',\n",
        "  u'HYOSYO': u'',\n",
        "  u'KEY_CODE': u'',\n",
        "  u'NAME': u'',\n",
        "  u'T000573001': u'',\n",
        "  u'T000573002': u'',\n",
        "・・・以下省略・・・\n",
        "```"
      ]
    },
    {
      "cell_type": "markdown",
      "metadata": {
        "id": "eVtI24dNhpEX",
        "colab_type": "text"
      },
      "source": [
        "上記のコードは以下のようにも書けます．"
      ]
    },
    {
      "cell_type": "code",
      "metadata": {
        "id": "wyqS_OI3hpEX",
        "colab_type": "code",
        "colab": {}
      },
      "source": [
        "# 確認用コードにつき，最終プログラムからは削除します\n",
        "stat_tab[class_obj[2]['CLASS'][0]['@code']] = {i: u'' for i in col_name}"
      ],
      "execution_count": 0,
      "outputs": []
    },
    {
      "cell_type": "markdown",
      "metadata": {
        "id": "tLz1xqfEhpEZ",
        "colab_type": "text"
      },
      "source": [
        "この操作を小地域の数だけ繰り返します．\n",
        "小地域の数は`class_obj[2][\"CLASS\"]`の要素の数だけありますので，\n",
        "`for`文を使ってループ処理します．"
      ]
    },
    {
      "cell_type": "code",
      "metadata": {
        "id": "V5t92dWThpEa",
        "colab_type": "code",
        "colab": {}
      },
      "source": [
        "for u in range(len(class_obj[2]['CLASS'])):\n",
        "    stat_tab[class_obj[2]['CLASS'][u]['@code']] = {i: u'' for i in col_name}"
      ],
      "execution_count": 0,
      "outputs": []
    },
    {
      "cell_type": "markdown",
      "metadata": {
        "id": "ih-5jinjhpEc",
        "colab_type": "text"
      },
      "source": [
        "`stat_tab`の行数と，最初の要素の列数を確認してみましょう．"
      ]
    },
    {
      "cell_type": "code",
      "metadata": {
        "scrolled": true,
        "id": "H1cyk3hhhpEc",
        "colab_type": "code",
        "colab": {},
        "outputId": "28465a01-897f-4c1b-d043-e1a0edc82ca9"
      },
      "source": [
        "# 確認用コードにつき，最終プログラムからは削除します\n",
        "print(len(stat_tab))\n",
        "print(len(stat_tab['13101']))"
      ],
      "execution_count": 0,
      "outputs": [
        {
          "output_type": "stream",
          "text": [
            "6781\n",
            "67\n"
          ],
          "name": "stdout"
        }
      ]
    },
    {
      "cell_type": "markdown",
      "metadata": {
        "id": "QCWdt22-hpEe",
        "colab_type": "text"
      },
      "source": [
        "行数が6781行，列数が67列のオブジェクトができました．\n",
        "次はこのオブジェクトに統計データ取得用APIで取得した値を埋め込んでいきます．"
      ]
    },
    {
      "cell_type": "markdown",
      "metadata": {
        "id": "BXXbFrN9hpEe",
        "colab_type": "text"
      },
      "source": [
        "# データ本体の取得"
      ]
    },
    {
      "cell_type": "markdown",
      "metadata": {
        "id": "kc-QjqrghpEe",
        "colab_type": "text"
      },
      "source": [
        "それではデータ本体を取ってきましょう．\n",
        "データを取得するには統計データ取得用APIを使います．\n",
        "\n",
        "APIマニュアル**「3.4 統計データ取得」**より，\n",
        "統計データ取得用APIではアプリケーションIDの`appId`と\n",
        "統計表IDの`statsDataId`が必須パラメータです．\n",
        "これらのパラメータをディクショナリ`param`に格納してAPIへ渡します．"
      ]
    },
    {
      "cell_type": "code",
      "metadata": {
        "id": "bPVFTRznhpEg",
        "colab_type": "code",
        "colab": {}
      },
      "source": [
        "# 確認用コードにつき，最終プログラムからは削除します\n",
        "param = {\n",
        "    'appId': 'c8fbd72d8f58aedf4ca3106034601d0ea83e9a69',\n",
        "    'statsDataId': tab_info['@id'],\n",
        "}\n",
        "api_param = urllib.parse.urlencode(param)\n",
        "data_obj = urllib.request.urlopen(APIdata_URL + api_param)\n",
        "response = data_obj.read()\n",
        "json_data = json.loads(response)"
      ],
      "execution_count": 0,
      "outputs": []
    },
    {
      "cell_type": "markdown",
      "metadata": {
        "id": "XyI4ysUThpEh",
        "colab_type": "text"
      },
      "source": [
        "以下のコードを実行すると，\n",
        "統計データ取得用APIの結果を`APIstats.json`として保存することができます．\n",
        "保存した結果を[JSON EDITOR ONLINE (http://jsoneditoronline.org/)](http://jsoneditoronline.org/)\n",
        "などで表示してみましょう．"
      ]
    },
    {
      "cell_type": "code",
      "metadata": {
        "id": "aeGaItvThpEl",
        "colab_type": "code",
        "colab": {}
      },
      "source": [
        "# 確認用コードにつき，最終プログラムからは削除します\n",
        "f = codecs.open('APIstats.json', 'w', 'utf-8')\n",
        "f.write(json.dumps(json_data, ensure_ascii = False, indent = 4))\n",
        "f.close()"
      ],
      "execution_count": 0,
      "outputs": []
    },
    {
      "cell_type": "markdown",
      "metadata": {
        "id": "NiPbWc-GhpEn",
        "colab_type": "text"
      },
      "source": [
        "```\n",
        "{\n",
        "    \"GET_STATS_DATA\": {\n",
        "        \"STATISTICAL_DATA\": {\n",
        "・・・途中省略・・・\n",
        "        },\n",
        "        \"PARAMETER\": {\n",
        "            \"LANG\": \"J\", \n",
        "            \"STATS_DATA_ID\": \"T00057313\", \n",
        "            \"START_POSITION\": 1, \n",
        "            \"DATA_FORMAT\": \"J\", \n",
        "            \"METAGET_FLG\": \"Y\"\n",
        "        }, \n",
        "        \"RESULT\": {\n",
        "            \"STATUS\": 0, \n",
        "            \"DATE\": \"2016-10-23T07:26:04.563+09:00\", \n",
        "            \"ERROR_MSG\": \"正常に終了しました。\"\n",
        "        }\n",
        "    }\n",
        "}        \n",
        "```"
      ]
    },
    {
      "cell_type": "markdown",
      "metadata": {
        "id": "U_TQZ61shpEo",
        "colab_type": "text"
      },
      "source": [
        "結果をチェックします．\n",
        "\n",
        "ルートタグは`GET_STATS_DATA`で，\n",
        "その下に子タグとして`STATISTICAL_DATA`と\n",
        "`PATAMETER`と`RESULT`があります．\n",
        "APIマニュアルの**「4.4.2 STATISTICAL_DATAタグ」**より，\n",
        "`RESULT`はAPIリクエストの結果，\n",
        "`PARAMETER`はリクエスト時に指定したパラメータを出力したものです．\n",
        "入手したいデータ本体は`STATISTICAL_DATA`に入っています．\n",
        "\n",
        "`STATISTICAL_DATA`を詳細に見ていきましょう．"
      ]
    },
    {
      "cell_type": "markdown",
      "metadata": {
        "id": "VuyqaCjzhpEo",
        "colab_type": "text"
      },
      "source": [
        "```\n",
        "\"STATISTICAL_DATA\": {\n",
        "    \"DATA_INF\": {\n",
        "    },\n",
        "・・・途中省略・・・\n",
        "    \"RESULT_INF\": {\n",
        "・・・途中省略・・・\n",
        "    }, \n",
        "    \"TABLE_INF\": {\n",
        "・・・途中省略・・・\n",
        "    },\n",
        "    \"CLASS_INF\": {\n",
        "・・・途中省略・・・\n",
        "    }\n",
        "}\n",
        "```"
      ]
    },
    {
      "cell_type": "markdown",
      "metadata": {
        "id": "VSLHQlV-hpEp",
        "colab_type": "text"
      },
      "source": [
        "`STATISTICAL_DATA`には子タグとして`DATA_INF`，`RESULT_INF`，`TABLE_INF`，`CLASS_INF`の4個のタグがあります．\n",
        "APIマニュアルより，\n",
        "`TABLE_INF`は統計表の情報が，\n",
        "`CLASS_INF`は統計データのメタ情報が，\n",
        "`RESULT_INF`は取得したデータの件数などがそれぞれ格納されており，\n",
        "データ本体は`DATA_INF`に格納されています．\n",
        "`DATA_INF`を詳細に見ていきましょう．"
      ]
    },
    {
      "cell_type": "markdown",
      "metadata": {
        "id": "YyF5eKCjhpEp",
        "colab_type": "text"
      },
      "source": [
        "```\n",
        "\"DATA_INF\": {\n",
        "    \"NOTE\": {\n",
        "・・・途中省略・・・\n",
        "    },\n",
        "    \"VALUE\": [\n",
        "・・・途中省略・・・\n",
        "    ]\n",
        "},\n",
        "```"
      ]
    },
    {
      "cell_type": "markdown",
      "metadata": {
        "id": "0ZQHn2_bhpEq",
        "colab_type": "text"
      },
      "source": [
        "`DATA_INF`には`NOTE`と`VALUE`の2個のタグがあります．\n",
        "e-Stat APIマニュアル「**4.4.2. STATISTICAL_DATAタグ（31ページ）**」によると，\n",
        "`NOTE`は特殊文字の凡例とあります．\n",
        "`NOTE`は以下の定義になっています．"
      ]
    },
    {
      "cell_type": "markdown",
      "metadata": {
        "id": "BfQODjPnhpEq",
        "colab_type": "text"
      },
      "source": [
        "```\n",
        "\"NOTE\": {\n",
        "    \"@char\": \"-\",\n",
        "    \"$\": \"当該数値がないもの\"\n",
        "},\n",
        "```\n"
      ]
    },
    {
      "cell_type": "markdown",
      "metadata": {
        "id": "zB1Dz0YihpEr",
        "colab_type": "text"
      },
      "source": [
        "つまり，統計の値が入るべきところに「`-`」が入っている場合，\n",
        "該当する値がないということを表しています．"
      ]
    },
    {
      "cell_type": "markdown",
      "metadata": {
        "id": "sZ34q9-ehpEs",
        "colab_type": "text"
      },
      "source": [
        "`VALUE`タグを見てみましょう．\n",
        "APIマニュアルより，このタグは統計情報（セル）の情報が入っているとあります．\n",
        "`VALUE`タグはスクエアブラケット「`[]`」が続いているため，\n",
        "要素としてリスト型オブジェクトが入っています．\n",
        "具体的には以下のようになっています．"
      ]
    },
    {
      "cell_type": "markdown",
      "metadata": {
        "id": "3srJ13fohpEs",
        "colab_type": "text"
      },
      "source": [
        "```\n",
        "\"VALUE\": [\n",
        "    {\n",
        "        \"@cat02\": \"1\", \n",
        "        \"@cat01\": \"T000573001\", \n",
        "        \"$\": \"47115\", \n",
        "        \"@area\": \"13101\", \n",
        "        \"@unit\": \"人\"\n",
        "    }, \n",
        "・・・途中省略・・・\n",
        "    {\n",
        "        \"@cat02\": \"1\", \n",
        "        \"@cat01\": \"T000573015\", \n",
        "        \"$\": \"159\", \n",
        "        \"@area\": \"13209038002\", \n",
        "        \"@unit\": \"人\"\n",
        "    }\n",
        "]\n",
        "```"
      ]
    },
    {
      "cell_type": "markdown",
      "metadata": {
        "id": "YETbJn4qhpEs",
        "colab_type": "text"
      },
      "source": [
        "`VALUE`の要素はブラケットで囲まれているため，\n",
        "ディクショナリ型オブジェクトであることがわかります．\n",
        "このディクショナリ型オブジェクトには5個の要素があり，\n",
        "`@cat02`，`@cat01`，`$`，`@area`，`@unit`となっています．\n",
        "\n",
        "APIマニュアルの**「4.2.2 STATISTICAL_DATAタグ（31ページ）」**より，\n",
        "`@cat01`と`@cat02`は分類事項コード，\n",
        "`@area`は地域事項コード，\n",
        "`@unit`は単位となっています．\n",
        "また，`$`は値そのもの（ここでは小地域の男女別・年齢別の人口）を表しています．\n",
        "\n",
        "`@cat01`，`@cat02`，`@area`はメタデータを取得したときにまとめた以下の表に対応しています．\n",
        "つまり，`@cat01`の値は男女別・年齢別カテゴリのコード番号そのものを表し，\n",
        "`@cat02`が１の場合は合算・秘匿地域がない通常の地域，2の場合は合算されている地域，\n",
        "3の場合は秘匿地域を表しています．\n",
        "`@area`は小地域の行政コードです．"
      ]
    },
    {
      "cell_type": "markdown",
      "metadata": {
        "id": "6LqT-mvthpEt",
        "colab_type": "text"
      },
      "source": [
        "class_obj|`['@name']`|`['@id']`|`['CLASS']`\n",
        "-|-\n",
        "`class_obj[0]`|年齢別（５歳階級、４区分）、男女別人口|`cat01`|年齢別・男女別のカテゴリ（60個），`@code`は「連番」，`@name`は「項目名」，`@unit`は「単位」\n",
        "`class_obj[1]`|秘匿地域・合算地域有り|`cat02`|`@code`が`1`：通常の地域，`2`：合算されている地域，`3`：秘匿地域\n",
        "`class_obj[2]`|東京都|`area`|`@level`は小地域のレベル（`HYOSYO`と同一），`@code`は行政コード（`KEY_CODE`と同一），`@name`は市区町村・町丁目の名称"
      ]
    },
    {
      "cell_type": "markdown",
      "metadata": {
        "id": "WZFMlaTthpEt",
        "colab_type": "text"
      },
      "source": [
        "この情報を元にしてオブジェクト`stat_tab`に小地域のデータを入れていきましょう．\n",
        "\n",
        "統計データ取得用APIで取得したデータのうち，\n",
        "小地域ごとの男女別・年齢別人口が格納されているのは\n",
        "`json_data['GET_STATS_DATA']['STATISTICAL_DATA']['DATA_INF']['VALUE']`以下になります．\n",
        "必要な部分だけを切り出し，リスト型オブジェクト`stat_obj`に格納します．"
      ]
    },
    {
      "cell_type": "code",
      "metadata": {
        "id": "vRnjwoUIhpEt",
        "colab_type": "code",
        "colab": {}
      },
      "source": [
        "# 確認用コードにつき，最終プログラムからは削除します\n",
        "stat_obj = json_data['GET_STATS_DATA']['STATISTICAL_DATA']['DATA_INF']['VALUE']"
      ],
      "execution_count": 0,
      "outputs": []
    },
    {
      "cell_type": "markdown",
      "metadata": {
        "id": "j5sfFTWzhpEv",
        "colab_type": "text"
      },
      "source": [
        "`stat_obj`の要素数をチェックして，\n",
        "切り出しができているか確認します．"
      ]
    },
    {
      "cell_type": "code",
      "metadata": {
        "id": "dXiq8nZThpEv",
        "colab_type": "code",
        "colab": {},
        "outputId": "ef008927-182d-4e77-9d6e-d076eda7e634"
      },
      "source": [
        "# 確認用コードにつき，最終プログラムからは削除します\n",
        "len(stat_obj)"
      ],
      "execution_count": 0,
      "outputs": [
        {
          "output_type": "execute_result",
          "data": {
            "text/plain": [
              "100000"
            ]
          },
          "metadata": {
            "tags": []
          },
          "execution_count": 53
        }
      ]
    },
    {
      "cell_type": "markdown",
      "metadata": {
        "id": "N28H4CHLhpEx",
        "colab_type": "text"
      },
      "source": [
        "小地域のデータは10万件しか取得できていないようです．"
      ]
    },
    {
      "cell_type": "markdown",
      "metadata": {
        "id": "u1by2vr_hpEx",
        "colab_type": "text"
      },
      "source": [
        "# データの一部分しか取れていない?\n",
        "\n",
        "東京都の小地域データの場合\n",
        "データの件数は406860件あるはずですが，\n",
        "およそ4分の1しかデータが取れていません．\n",
        "この原因はどこにあるのでしょうか．\n",
        "\n",
        "統計データ取得用APIの結果は\n",
        "`RESULT_INF`タグに書かれていますので，\n",
        "これを詳細に見てみます．"
      ]
    },
    {
      "cell_type": "markdown",
      "metadata": {
        "id": "YGX8uzkOhpEx",
        "colab_type": "text"
      },
      "source": [
        "```\n",
        "\"RESULT_INF\": {\n",
        "    \"FROM_NUMBER\": 1,\n",
        "    \"TO_NUMBER\": 100000,\n",
        "    \"TOTAL_NUMBER\": 406860,\n",
        "    \"NEXT_KEY\": 100001\n",
        "}, \n",
        "```"
      ]
    },
    {
      "cell_type": "markdown",
      "metadata": {
        "id": "eAnEC1S0hpEy",
        "colab_type": "text"
      },
      "source": [
        "APIマニュアルの**「3.4. 統計データ取得」**の`limit`の説明（8ページ）では，\n",
        "データ取得件数を指定するパラメータ`limit`の指定がない場合は\n",
        "最大10万件を取得するとあります．\n",
        "今回対象としている東京都の小地域データの総数は406860件であり，\n",
        "キー`TOTAL_NUMBER`にも書かれています．\n",
        "また，これはデータ本体を取得しなくても，\n",
        "統計表情報取得用APIの`OVERALL_TOTAL_NUMBER`からあらかじめ知ることができます．\n",
        "\n",
        "データの開始位置を示す`FROM_NUMBER`には`1`が，\n",
        "終了位置を示す`TO_NUMBER`には`100000`が入っています．\n",
        "これはすべてのデータ件数が406860件あるうち，\n",
        "今回のデータ取得では1件目から10万件目までしか取得できていないことを示しています．\n",
        "APIマニュアルには`limit`の指定がない場合は最大10万件を取得するとありますが，\n",
        "試しに10万件より大きな値を`limit`にした場合でも\n",
        "10万件までしか取得できませんでした．\n",
        "\n",
        "これでは東京都の全データを取得できませんので，\n",
        "何回かに分けてすべてのデータを取るようにしなければなりません．\n",
        "\n",
        "データ取得用APIに渡すパラメータを再検討しましょう．\n",
        "パラメータは以下のようになっていました．"
      ]
    },
    {
      "cell_type": "markdown",
      "metadata": {
        "id": "xExmFu7khpEz",
        "colab_type": "text"
      },
      "source": [
        "```\n",
        "param = {\n",
        "    'appId': 'c8fbd72d8f58aedf4ca3106034601d0ea83e9a69',\n",
        "    'statsDataId': tab_info['@id'],\n",
        "}\n",
        "```"
      ]
    },
    {
      "cell_type": "markdown",
      "metadata": {
        "id": "X4PltoQihpE0",
        "colab_type": "text"
      },
      "source": [
        "これにデータの取得開始位置を表す`startPosition`を加えます．\n",
        "APIマニュアルの**「3.4. 統計データ取得（8ページ）」**より，\n",
        "`startPosition`は前回取得したデータの`NEXT_KEY`タグの値を指定するとあります．\n",
        "`NEXT_KEY`タグは`RESULT_INF`の中にありますので，\n",
        "変更後のパラメータは以下になります．\n",
        "変更したパラメータの確認までしてみましょう"
      ]
    },
    {
      "cell_type": "code",
      "metadata": {
        "id": "xT6O67sZhpE0",
        "colab_type": "code",
        "colab": {}
      },
      "source": [
        "# 確認用コードにつき，最終プログラムからは削除します\n",
        "param = {\n",
        "    'appId': 'c8fbd72d8f58aedf4ca3106034601d0ea83e9a69',\n",
        "    'statsDataId': tab_info['@id'],\n",
        "    'startPosition': json_data['GET_STATS_DATA']['STATISTICAL_DATA']['RESULT_INF']['NEXT_KEY']\n",
        "}"
      ],
      "execution_count": 0,
      "outputs": []
    },
    {
      "cell_type": "code",
      "metadata": {
        "id": "y6XoyTHghpE2",
        "colab_type": "code",
        "colab": {},
        "outputId": "61c55f6d-3bea-4b2a-89e4-e61b578cd8b9"
      },
      "source": [
        "# 確認用コードにつき，最終プログラムからは削除します\n",
        "param"
      ],
      "execution_count": 0,
      "outputs": [
        {
          "output_type": "execute_result",
          "data": {
            "text/plain": [
              "{'appId': 'c8fbd72d8f58aedf4ca3106034601d0ea83e9a69',\n",
              " 'statsDataId': 'T00057313',\n",
              " 'startPosition': 100001}"
            ]
          },
          "metadata": {
            "tags": []
          },
          "execution_count": 55
        }
      ]
    },
    {
      "cell_type": "markdown",
      "metadata": {
        "id": "pdj25SanhpE3",
        "colab_type": "text"
      },
      "source": [
        "`startPosition`の追加ができており，\n",
        "取得開始位置も100001番目からになっています．\n",
        "このパラメータをURLエンコードして100001件目から20000件目までの統計表データを取得します．"
      ]
    },
    {
      "cell_type": "code",
      "metadata": {
        "id": "fWUNyqI5hpE4",
        "colab_type": "code",
        "colab": {}
      },
      "source": [
        "# 確認用コードにつき，最終プログラムからは削除します\n",
        "api_param = urllib.parse.urlencode(param)\n",
        "data_obj = urllib.request.urlopen(APIdata_URL + api_param)\n",
        "response = data_obj.read()\n",
        "json_data = json.loads(response)"
      ],
      "execution_count": 0,
      "outputs": []
    },
    {
      "cell_type": "markdown",
      "metadata": {
        "id": "-Nr2oEA0hpE5",
        "colab_type": "text"
      },
      "source": [
        "100001件目から200000件目まで取得できているか，\n",
        "`RESULT_INF`を確認してみましょう．"
      ]
    },
    {
      "cell_type": "code",
      "metadata": {
        "id": "Oc0_tJFdhpE6",
        "colab_type": "code",
        "colab": {},
        "outputId": "6c44f0c1-dc36-4534-dbe4-bcd3c068773c"
      },
      "source": [
        "# 確認用コードにつき，最終プログラムからは削除します\n",
        "json_data['GET_STATS_DATA']['STATISTICAL_DATA']['RESULT_INF']"
      ],
      "execution_count": 0,
      "outputs": [
        {
          "output_type": "execute_result",
          "data": {
            "text/plain": [
              "{'TOTAL_NUMBER': 406860,\n",
              " 'FROM_NUMBER': 100001,\n",
              " 'TO_NUMBER': 200000,\n",
              " 'NEXT_KEY': 200001}"
            ]
          },
          "metadata": {
            "tags": []
          },
          "execution_count": 57
        }
      ]
    },
    {
      "cell_type": "markdown",
      "metadata": {
        "id": "69sOd4lNhpE7",
        "colab_type": "text"
      },
      "source": [
        "`FROM_NUMBER`と`TO_NUMBER`により，\n",
        "100001件目から200000件目まで取得できていることがわかります．\n",
        "次回のデータ取得は`NEXT_KEY`より200001件目からの10万件になります．"
      ]
    },
    {
      "cell_type": "markdown",
      "metadata": {
        "id": "V_omCmRWhpE7",
        "colab_type": "text"
      },
      "source": [
        "ここで，いま取得した100001件目から200000件目までのデータを，\n",
        "1件目から100000件目までのデータを表しているオブジェクト`stat_obj`に追加します．\n",
        "オブジェクト`stat_obj`はリスト型のオブジェクトであるため，\n",
        "リスト型オブジェクトに要素を追加する`append`メソッドを使います．\n",
        "`append`メソッドの使い方は以下になります．\n",
        "```\n",
        "リスト型オブジェクト.append(追加する要素)\n",
        "```\n",
        "リスト型オブジェクト`stat_obj`に2回目に取得したデータの`VALUE`キー以下の要素を追加しますので，\n",
        "このようなコードになります．"
      ]
    },
    {
      "cell_type": "code",
      "metadata": {
        "id": "A7fnJeIYhpE8",
        "colab_type": "code",
        "colab": {},
        "outputId": "8eb9a3a9-0e02-4c49-e147-6f0de51508e9"
      },
      "source": [
        "# 確認用コードにつき，最終プログラムからは削除します\n",
        "#for i in json_data['GET_STATS_DATA']['STATISTICAL_DATA']['DATA_INF']['VALUE']:\n",
        "for i in tqdm(json_data['GET_STATS_DATA']['STATISTICAL_DATA']['DATA_INF']['VALUE']):\n",
        "    stat_obj.append(i)"
      ],
      "execution_count": 0,
      "outputs": [
        {
          "output_type": "stream",
          "text": [
            "100%|██████████| 100000/100000 [00:00<00:00, 2048430.09it/s]\n"
          ],
          "name": "stderr"
        }
      ]
    },
    {
      "cell_type": "markdown",
      "metadata": {
        "id": "uf3Trck-hpE9",
        "colab_type": "text"
      },
      "source": [
        "`for`は`json_data['GET_STATS_DATA']['STATISTICAL_DATA']['DATA_INF']['VALUE']`の要素数だけループします．\n",
        "`['VALUE']`には追加の10万件のデータが入っているためループの回数は10万回になります．\n",
        "このとき，変数`i`には`['VALUE']`の要素がひとつずつ入ります．\n",
        "これを`append`メソッドを使って`stat_obj`に追加しています．"
      ]
    },
    {
      "cell_type": "markdown",
      "metadata": {
        "id": "vh7PcYlChpE9",
        "colab_type": "text"
      },
      "source": [
        "追加後のデータ件数も確認しましょう．"
      ]
    },
    {
      "cell_type": "code",
      "metadata": {
        "id": "FCfPawsNhpE9",
        "colab_type": "code",
        "colab": {},
        "outputId": "3d9112a9-3d5a-4d71-cdc1-bebdadf95103"
      },
      "source": [
        "# 確認用コードにつき，最終プログラムからは削除します\n",
        "len(stat_obj)"
      ],
      "execution_count": 0,
      "outputs": [
        {
          "output_type": "execute_result",
          "data": {
            "text/plain": [
              "200000"
            ]
          },
          "metadata": {
            "tags": []
          },
          "execution_count": 59
        }
      ]
    },
    {
      "cell_type": "markdown",
      "metadata": {
        "id": "Yb5jS77EhpE-",
        "colab_type": "text"
      },
      "source": [
        "20万件になっています．\n",
        "データの追加読み込みと結合はうまくいっているようです．\n",
        "\n",
        "ここまでのコードをまとめてみましょう．"
      ]
    },
    {
      "cell_type": "code",
      "metadata": {
        "id": "Nn42et4bhpE_",
        "colab_type": "code",
        "colab": {}
      },
      "source": [
        "# startPositionの初期値を設定する\n",
        "start_position = 1\n",
        "\n",
        "# リスト型オブジェクトstat_objを作成する\n",
        "stat_obj = []\n",
        "\n",
        "# データを10万件ずつ読み出すループ\n",
        "while True:\n",
        "    \n",
        "    # APIに渡すパラメータの設定\n",
        "    param = {\n",
        "        'appId': 'c8fbd72d8f58aedf4ca3106034601d0ea83e9a69',\n",
        "        'statsDataId': tab_info['@id'],\n",
        "        'startPosition': start_position\n",
        "    }\n",
        "\n",
        "    # APIの呼び出し，ディクショナリ型オブジェクトへの変換\n",
        "    api_param = urllib.parse.urlencode(param)\n",
        "    data_obj = urllib.request.urlopen(APIdata_URL + api_param)\n",
        "    response = data_obj.read()\n",
        "    json_data = json.loads(response)\n",
        "     \n",
        "    # VALUEキー以下をstat_objに追加する\n",
        "    for i in json_data['GET_STATS_DATA']['STATISTICAL_DATA']['DATA_INF']['VALUE']:\n",
        "        stat_obj.append(i)\n",
        "    \n",
        "    # NEXT_KEYキーがある場合，次回のループ用のstart_positionを設定する\n",
        "    # NEXT_KEYがない場合はwhileループを抜ける\n",
        "    if 'NEXT_KEY' in json_data['GET_STATS_DATA']['STATISTICAL_DATA']['RESULT_INF']:\n",
        "        start_position = json_data['GET_STATS_DATA']['STATISTICAL_DATA']['RESULT_INF']['NEXT_KEY']\n",
        "    else:\n",
        "        break"
      ],
      "execution_count": 0,
      "outputs": []
    },
    {
      "cell_type": "markdown",
      "metadata": {
        "id": "ZJ-uIrvthpFA",
        "colab_type": "text"
      },
      "source": [
        "まず`startPosition`の初期値として`1`を入れ，\n",
        "データの格納先であるリスト型オブジェクト`stat_obj`を生成します．\n",
        "次にデータをAPIから読み込み，\n",
        "読んだデータをリスト型オブジェクト`stat_obj`へ格納するループに入ります．\n",
        "\n",
        "`while True:`ループはループを無限に繰り返すループです．\n",
        "APIのパラメータ設定としてキー`startPosition`に`start_position`の値を代入し，\n",
        "URLエンコードしてAPIにアクセスします．\n",
        "取得したデータはキー`VALUE`以下をリスト型オブジェクト`stat_obj`に追加します．\n",
        "\n",
        "取得したデータにキー`NEXT_KEY`がある場合にはまだ読み込まれていないデータがあるため，\n",
        "`start_position`にキー`NEXT_KEY`の値を代入して次のループを行います．\n",
        "すべてのデータを読み込んでしまうと`NEXT_KEY`自体が無くなるため，\n",
        "`break`を使って`while`ループを抜けます．\n",
        "\n",
        "オブジェクト`stat_obj`にデータの全件（406860件）が入ったか確認しましょう．"
      ]
    },
    {
      "cell_type": "code",
      "metadata": {
        "id": "Syp3Zk2mhpFB",
        "colab_type": "code",
        "colab": {},
        "outputId": "1e5e13ac-3143-479e-bf5c-49e20b8f03f1"
      },
      "source": [
        "# 確認用コードにつき，最終プログラムからは削除します\n",
        "len(stat_obj)"
      ],
      "execution_count": 0,
      "outputs": [
        {
          "output_type": "execute_result",
          "data": {
            "text/plain": [
              "406860"
            ]
          },
          "metadata": {
            "tags": []
          },
          "execution_count": 61
        }
      ]
    },
    {
      "cell_type": "markdown",
      "metadata": {
        "id": "fKtnFFOzhpFD",
        "colab_type": "text"
      },
      "source": [
        "これで無事に東京都の小地域データのすべてが取得できました．"
      ]
    },
    {
      "cell_type": "markdown",
      "metadata": {
        "id": "RkbuBjO-hpFD",
        "colab_type": "text"
      },
      "source": [
        "# 人口データの埋め込み"
      ]
    },
    {
      "cell_type": "markdown",
      "metadata": {
        "id": "dyIWHW5RhpFE",
        "colab_type": "text"
      },
      "source": [
        "それでは`stat_tab`に`stat_obj`の内容を埋め込んでいきましょう．\n",
        "まずは手始めに`stat_obj`の最初の要素を`stat_tab`に埋め込みます．\n",
        "`stat_obj`の最初の要素は以下のようになっています．"
      ]
    },
    {
      "cell_type": "markdown",
      "metadata": {
        "id": "EFfd3KNGhpFF",
        "colab_type": "text"
      },
      "source": [
        "```\n",
        "{\n",
        "    \"@cat02\": \"1\", \n",
        "    \"@cat01\": \"T000573001\", \n",
        "    \"$\": \"47115\", \n",
        "    \"@area\": \"13101\", \n",
        "    \"@unit\": \"人\"\n",
        "}, \n",
        "```"
      ]
    },
    {
      "cell_type": "markdown",
      "metadata": {
        "id": "YA37pIsmhpFF",
        "colab_type": "text"
      },
      "source": [
        "一方，`stat_tab`の各要素はこのような形になっています．"
      ]
    },
    {
      "cell_type": "markdown",
      "metadata": {
        "id": "iW0zfq0lhpFF",
        "colab_type": "text"
      },
      "source": [
        "```\n",
        "{\n",
        "    \"13101\": {\n",
        "        \"CITYNAME\": \"\",\n",
        "        \"GASSAN\": \"\",\n",
        "        \"HTKSAKI\": \"\",\n",
        "        \"HTKSYORI\": \"\",\n",
        "        \"HYOSYO\": \"\",\n",
        "        \"KEY_CODE\": \"\",\n",
        "        \"NAME\": \"\",\n",
        "        \"T000573001\": \"\",\n",
        "        \"T000573002\": \"\",\n",
        "・・・途中省略・・・\n",
        "}\n",
        "```"
      ]
    },
    {
      "cell_type": "markdown",
      "metadata": {
        "id": "MRrr4nvrhpFG",
        "colab_type": "text"
      },
      "source": [
        "`stat_obj`の最初の要素は，`stat_tab`のどの要素に入れればよいでしょうか．\n",
        "`stat_tab`のキーは小地域のコードになっていますので，\n",
        "`stat_obj`の中で小地域コードを示す要素値を取得することにより，\n",
        "`stat_tab`のどの要素にアクセスすれば良いのかわかります．\n",
        "`stat_obj`で小地域コードを表すキーは`@area`になりますので，\n",
        "```\n",
        "stat_tab[stat_obj[0]['@area']]\n",
        "```\n",
        "とすることで，`\n",
        "stat_obj`の最初の要素`[0]`の地域コードが示している\n",
        "`stat_tab`の要素にアクセスできます．\n",
        "\n",
        "さらに`stat_tab`の要素`KEY_CODE`には`stat_obj`の`@area`キーの値を入れたいので\n",
        "以下のようにします．"
      ]
    },
    {
      "cell_type": "code",
      "metadata": {
        "id": "fr32l6XJhpFG",
        "colab_type": "code",
        "colab": {}
      },
      "source": [
        "# 確認用コードにつき，最終プログラムからは削除します\n",
        "stat_tab[stat_obj[0]['@area']]['KEY_CODE'] = stat_obj[0]['@area']"
      ],
      "execution_count": 0,
      "outputs": []
    },
    {
      "cell_type": "markdown",
      "metadata": {
        "id": "lPPbgQtlhpFH",
        "colab_type": "text"
      },
      "source": [
        "同様に，`stat_tab`の要素`HTKSYORI`には`stat_obj`の`@cat02`キーの値を入れます．"
      ]
    },
    {
      "cell_type": "code",
      "metadata": {
        "id": "uv-iBhfEhpFI",
        "colab_type": "code",
        "colab": {}
      },
      "source": [
        "# 確認用コードにつき，最終プログラムからは削除します\n",
        "stat_tab[stat_obj[0]['@area']]['HTKSYORI'] = stat_obj[0]['@cat02']"
      ],
      "execution_count": 0,
      "outputs": []
    },
    {
      "cell_type": "markdown",
      "metadata": {
        "id": "7gM151tChpFJ",
        "colab_type": "text"
      },
      "source": [
        "次に，`stat_obj`の`@cat01`キーの値の人口（`$`の値）を，\n",
        "`stat_tab`の同じキーの値に入れます．"
      ]
    },
    {
      "cell_type": "code",
      "metadata": {
        "id": "1-skeFb2hpFK",
        "colab_type": "code",
        "colab": {}
      },
      "source": [
        "# 確認用コードにつき，最終プログラムからは削除します\n",
        "stat_tab[stat_obj[0]['@area']][stat_obj[0]['@cat01']] = stat_obj[0]['$']"
      ],
      "execution_count": 0,
      "outputs": []
    },
    {
      "cell_type": "markdown",
      "metadata": {
        "id": "ljISzUkshpFL",
        "colab_type": "text"
      },
      "source": [
        "うまく代入されているか確認してみましょう．\n",
        "`stat_obj`の最初の要素は地域コード`13101`ですので，\n",
        "`stat_tab`の要素`13101`を表示してみます．"
      ]
    },
    {
      "cell_type": "code",
      "metadata": {
        "scrolled": true,
        "id": "oYnnEmsrhpFL",
        "colab_type": "code",
        "colab": {}
      },
      "source": [
        "# 確認用コードにつき，最終プログラムからは削除します\n",
        "#stat_tab['13101']"
      ],
      "execution_count": 0,
      "outputs": []
    },
    {
      "cell_type": "markdown",
      "metadata": {
        "id": "pgmOehR4hpFM",
        "colab_type": "text"
      },
      "source": [
        "```\n",
        "{u'CITYNAME': u'',\n",
        " u'GASSAN': u'',\n",
        " u'HTKSAKI': u'',\n",
        " u'HTKSYORI': u'1',\n",
        " u'HYOSYO': u'',\n",
        " u'KEY_CODE': u'13101',\n",
        " u'NAME': u'',\n",
        " u'T000573001': u'47115',\n",
        " u'T000573002': u'',\n",
        " u'T000573003': u'',\n",
        "・・・以下省略・・・\n",
        "}\n",
        "```"
      ]
    },
    {
      "cell_type": "markdown",
      "metadata": {
        "id": "atq1n_r2hpFM",
        "colab_type": "text"
      },
      "source": [
        "`HTKSYORI`，`KEY_CODE`，`T000573001`に正しい値が入っています．\n",
        "この操作をループを使って行えば，\n",
        "`stat_obj`のすべての要素を`stat_tab`に入れることができます．"
      ]
    },
    {
      "cell_type": "code",
      "metadata": {
        "id": "HkdACV5ShpFN",
        "colab_type": "code",
        "colab": {},
        "outputId": "d1870730-108a-4542-fac6-6cb74ad2a346"
      },
      "source": [
        "for i in tqdm(range(len(stat_obj))):\n",
        "    stat_tab[stat_obj[i]['@area']]['KEY_CODE'] = stat_obj[i]['@area']\n",
        "    stat_tab[stat_obj[i]['@area']]['HTKSYORI'] = stat_obj[i]['@cat02']\n",
        "    stat_tab[stat_obj[i]['@area']][stat_obj[i]['@cat01']] = stat_obj[i]['$']"
      ],
      "execution_count": 0,
      "outputs": [
        {
          "output_type": "stream",
          "text": [
            "100%|██████████| 406860/406860 [00:00<00:00, 705087.27it/s]\n"
          ],
          "name": "stderr"
        }
      ]
    },
    {
      "cell_type": "markdown",
      "metadata": {
        "id": "HWASX1UahpFP",
        "colab_type": "text"
      },
      "source": [
        "うまくできているか確認しましょう．"
      ]
    },
    {
      "cell_type": "code",
      "metadata": {
        "scrolled": true,
        "id": "Fg8IOAUYhpFR",
        "colab_type": "code",
        "colab": {}
      },
      "source": [
        "# 確認用コードにつき，最終プログラムからは削除します\n",
        "#stat_tab['13202002004']"
      ],
      "execution_count": 0,
      "outputs": []
    },
    {
      "cell_type": "markdown",
      "metadata": {
        "id": "XX08ZPNphpFS",
        "colab_type": "text"
      },
      "source": [
        "```\n",
        "{u'CITYNAME': u'',\n",
        " u'GASSAN': u'',\n",
        " u'HTKSAKI': u'',\n",
        " u'HTKSYORI': u'',\n",
        " u'HYOSYO': u'',\n",
        " u'KEY_CODE': u'13202002004',\n",
        " u'NAME': u'',\n",
        " u'T000573001': u'2069',\n",
        " u'T000573002': u'95',\n",
        " u'T000573003': u'89',\n",
        " ・・・以下省略・・・\n",
        "}\n",
        "```"
      ]
    },
    {
      "cell_type": "markdown",
      "metadata": {
        "id": "kRaI7Ss-hpFS",
        "colab_type": "text"
      },
      "source": [
        "うまくいっているようです．\n",
        "\n",
        "小地域名などの地域情報がまだ入っていませんので，\n",
        "次はこの情報を入れていきます．"
      ]
    },
    {
      "cell_type": "markdown",
      "metadata": {
        "id": "pwYg7K1phpFT",
        "colab_type": "text"
      },
      "source": [
        "# 地域情報の埋め込み"
      ]
    },
    {
      "cell_type": "markdown",
      "metadata": {
        "id": "F-Q2dTAzhpFT",
        "colab_type": "text"
      },
      "source": [
        "地域情報はディクショナリ型オブジェクト`area_obj`に格納してあります．\n",
        "人口データと同様に`area_obj`の要素の数だけ`stat_tab`にアクセスして\n",
        "値を入れていきます．\n",
        "\n",
        "オブジェクト`area_obj`の一番最初の要素は`area_obj[0]`になり，\n",
        "`area_obj[0]['@code']`が一番最初の要素の小地域コードになります．\n",
        "従って，以下のようにすれば`area_obj`の最初の要素の市区町村・町丁目の名称を\n",
        "`stat_tab`の同一小地域コードの`NAME`に入れることができます．"
      ]
    },
    {
      "cell_type": "code",
      "metadata": {
        "id": "ETmcRTsFhpFU",
        "colab_type": "code",
        "colab": {}
      },
      "source": [
        "# 確認用コードにつき，最終プログラムからは削除します\n",
        "stat_tab[area_obj[0]['@code']]['NAME'] = area_obj[0]['@name']"
      ],
      "execution_count": 0,
      "outputs": []
    },
    {
      "cell_type": "markdown",
      "metadata": {
        "id": "hOsOJMiJhpFV",
        "colab_type": "text"
      },
      "source": [
        "本来の統計表では`NAME`が表しているのは町丁目名のみですが，\n",
        "e-Stat APIから取得してきたデータには市区町村名と町丁目名が合わさっているため，\n",
        "ここでは`NAME`の値として市区町村名と町丁目名が合わさっているものを入れます．\n",
        "その代わり，`CITYNAME`に`tab_info['TABLE_SUB_CATEGORY1']`に保持している都道府県名を入れます．\n",
        "さらに`HYOSYO`に小地域のレベルである`area_obj[0]['@level']`を入れます．"
      ]
    },
    {
      "cell_type": "code",
      "metadata": {
        "id": "uSUWVfi1hpFV",
        "colab_type": "code",
        "colab": {}
      },
      "source": [
        "# 確認用コードにつき，最終プログラムからは削除します\n",
        "stat_tab[area_obj[0]['@code']]['CITYNAME'] = tab_info['TABLE_SUB_CATEGORY1']\n",
        "stat_tab[area_obj[0]['@code']]['HYOSYO'] = area_obj[0]['@level']"
      ],
      "execution_count": 0,
      "outputs": []
    },
    {
      "cell_type": "markdown",
      "metadata": {
        "id": "Y16sSztuhpFX",
        "colab_type": "text"
      },
      "source": [
        "地域情報がうまく格納できたか確認してみましょう"
      ]
    },
    {
      "cell_type": "code",
      "metadata": {
        "id": "_jUXx2hhhpFX",
        "colab_type": "code",
        "colab": {}
      },
      "source": [
        "# 確認用コードにつき，最終プログラムからは削除します\n",
        "#print(json.dumps(stat_tab['13101'], ensure_ascii = False, indent = 4, sort_keys = True))"
      ],
      "execution_count": 0,
      "outputs": []
    },
    {
      "cell_type": "markdown",
      "metadata": {
        "id": "uE3tjJCShpFY",
        "colab_type": "text"
      },
      "source": [
        "```\n",
        "{\n",
        "    \"CITYNAME\": \"東京都\", \n",
        "    \"GASSAN\": \"\", \n",
        "    \"HTKSAKI\": \"\", \n",
        "    \"HTKSYORI\": \"1\", \n",
        "    \"HYOSYO\": \"1\", \n",
        "    \"KEY_CODE\": \"13101\", \n",
        "    \"NAME\": \"千代田区\", \n",
        "    \"T000573001\": \"47115\", \n",
        "    \"T000573002\": \"1688\", \n",
        "    \"T000573003\": \"1639\", \n",
        "    \"T000573004\": \"1728\", \n",
        "・・・以下省略・・・\n",
        "}\n",
        "```"
      ]
    },
    {
      "cell_type": "markdown",
      "metadata": {
        "id": "h926XftYhpFZ",
        "colab_type": "text"
      },
      "source": [
        "`CITYNAME`には都道府県名が，\n",
        "`HYOSYO`には地域のレベルが，\n",
        "`NAME`には市区町村名と（おそらく）小地域名が入っていることが確認できました．\n",
        "`for`ループを使ってすべての小地域に値を入れましょう．"
      ]
    },
    {
      "cell_type": "code",
      "metadata": {
        "id": "VBBDy3LShpFZ",
        "colab_type": "code",
        "colab": {},
        "outputId": "e52f0af8-6000-4192-f792-c95db3807579"
      },
      "source": [
        "for i in tqdm(range(len(area_obj))):\n",
        "    stat_tab[area_obj[i]['@code']]['CITYNAME'] = tab_info['TABLE_SUB_CATEGORY1']\n",
        "    stat_tab[area_obj[i]['@code']]['NAME'] = area_obj[i]['@name']\n",
        "    stat_tab[area_obj[i]['@code']]['HYOSYO'] = area_obj[i]['@level']"
      ],
      "execution_count": 0,
      "outputs": [
        {
          "output_type": "stream",
          "text": [
            "100%|██████████| 6781/6781 [00:00<00:00, 672854.87it/s]\n"
          ],
          "name": "stderr"
        }
      ]
    },
    {
      "cell_type": "markdown",
      "metadata": {
        "id": "yjQqdwwihpFb",
        "colab_type": "text"
      },
      "source": [
        "これですべての地域情報が`stat_tab`に格納できました．"
      ]
    },
    {
      "cell_type": "markdown",
      "metadata": {
        "id": "3quDxR7XhpFb",
        "colab_type": "text"
      },
      "source": [
        "# データをcsvファイルとして書き出す"
      ]
    },
    {
      "cell_type": "markdown",
      "metadata": {
        "id": "e5O978Y5hpFb",
        "colab_type": "text"
      },
      "source": [
        "データがすべて揃いましたので，これをcsvファイルに書き出します．\n",
        "csvに書き出すには`csv`モジュールの`csv.writer`オブジェクトと`writerows`メソッドが便利です．\n",
        "`csv.writer`オブジェクトと`writeraws`メソッドは，\n",
        "シーケンス型のデータを指定されたデリミタ（カンマなど）で区切り\n",
        "ファイルに書き出すものです．\n",
        "\n",
        "シーケンス型のオブジェクトにはリスト型オブジェクトなどがありますが，\n",
        "`stat_tab`などで使っているディクショナリ型オブジェクトはシーケンス型のオブジェクトではありません．\n",
        "このため，`csv.write`を使って`stat_tab`を直接csvファイルに書き出すことができません．\n",
        "ディクショナリ型オブジェクトである`stat_tab`をリスト型のオブジェクトに変換する必要があります．"
      ]
    },
    {
      "cell_type": "markdown",
      "metadata": {
        "id": "uNCfNgakhpFb",
        "colab_type": "text"
      },
      "source": [
        "# `stat_tab`をリスト型オブジェクトに変換する"
      ]
    },
    {
      "cell_type": "markdown",
      "metadata": {
        "id": "YGi8-cwlhpFc",
        "colab_type": "text"
      },
      "source": [
        "まずは`stat_tab`の最初の要素値をリスト型オブジェクトに変換しましょう．\n",
        "リストの1行分を保持するリスト型オブジェクト`one_row`を作成します．\n",
        "次に`one_row`の要素として，`stat_tab`の要素値の一つを統計表の順番で加えていきます．\n",
        "\n",
        "ディクショナリ型オブジェクトの要素には順番の概念がないため，\n",
        "明示的に順番を指定しないと行によって順番が異なってしまう可能性があります．\n",
        "このため，統計表の列の順番で`one_row`に埋め込んでいきます．\n",
        "統計表の列はリスト型オブジェクト`col_name`に保存してありますので，\n",
        "`col_name`の要素の順番で`stat_tab`の要素にアクセスして`row`に埋め込んでいけば\n",
        "順番が一定になります．\n",
        "\n",
        "`stat_tab`の最初の要素値は`stat_tab['13101']`になりますので，\n",
        "以下のコードで1行目のリストを作ることができます．\n",
        "ファイル出力を考えて，`encode`メソッドを使って要素値をUTF-8に変換します．"
      ]
    },
    {
      "cell_type": "code",
      "metadata": {
        "id": "Ge3OeT2FhpFc",
        "colab_type": "code",
        "colab": {}
      },
      "source": [
        "# 確認用コードにつき，最終プログラムからは削除します\n",
        "one_row = []\n",
        "for i in col_name:\n",
        "    one_row.append(stat_tab['13101'][i].encode('utf-8'))"
      ],
      "execution_count": 0,
      "outputs": []
    },
    {
      "cell_type": "markdown",
      "metadata": {
        "id": "5uQUmpn8hpFe",
        "colab_type": "text"
      },
      "source": [
        "`one_row`の内容を確認しましょう．"
      ]
    },
    {
      "cell_type": "code",
      "metadata": {
        "id": "40sn-mj1hpFe",
        "colab_type": "code",
        "colab": {}
      },
      "source": [
        "# 確認用コードにつき，最終プログラムからは削除します\n",
        "#print(json.dumps(one_row, ensure_ascii = False, indent = 4))"
      ],
      "execution_count": 0,
      "outputs": []
    },
    {
      "cell_type": "markdown",
      "metadata": {
        "id": "fDf5FiXThpFf",
        "colab_type": "text"
      },
      "source": [
        "```\n",
        "[\n",
        "    \"13101\", \n",
        "    \"1\", \n",
        "    \"東京都\", \n",
        "    \"千代田区\", \n",
        "    \"1\", \n",
        "    \"\", \n",
        "    \"\", \n",
        "    \"47115\", \n",
        "    \"1688\", \n",
        "    \"1639\", \n",
        "    \"1728\", \n",
        "    \"1724\", \n",
        "    \"2771\", \n",
        "・・・以下省略・・・\n",
        "]\n",
        "```"
      ]
    },
    {
      "cell_type": "markdown",
      "metadata": {
        "id": "5NJqMt0ThpFf",
        "colab_type": "text"
      },
      "source": [
        "**tblT000573C13101.xlsx**の最初のデータと見比べてみてください．\n",
        "列の値と順番が同じになっているのが確認できます．\n",
        "\n",
        "上記のコードはforループを使っていますが，\n",
        "内包表記で表すと以下のようになります．"
      ]
    },
    {
      "cell_type": "code",
      "metadata": {
        "id": "P-e3HjoqhpFg",
        "colab_type": "code",
        "colab": {}
      },
      "source": [
        "# 確認用コードにつき，最終プログラムからは削除します\n",
        "one_row = []\n",
        "one_row = [stat_tab['13101'][i].encode('utf-8') for i in col_name]"
      ],
      "execution_count": 0,
      "outputs": []
    },
    {
      "cell_type": "markdown",
      "metadata": {
        "id": "FxkCrza_hpFh",
        "colab_type": "text"
      },
      "source": [
        "こちらも`one_raw`の内容を確認してみます．"
      ]
    },
    {
      "cell_type": "code",
      "metadata": {
        "id": "-5OOfB1XhpFh",
        "colab_type": "code",
        "colab": {}
      },
      "source": [
        "# 確認用コードにつき，最終プログラムからは削除します\n",
        "#print(json.dumps(one_row, ensure_ascii = False, indent = 4))"
      ],
      "execution_count": 0,
      "outputs": []
    },
    {
      "cell_type": "markdown",
      "metadata": {
        "id": "2SfYh-uBhpFj",
        "colab_type": "text"
      },
      "source": [
        "```\n",
        "[\n",
        "    \"13101\", \n",
        "    \"1\", \n",
        "    \"東京都\", \n",
        "    \"千代田区\", \n",
        "    \"1\", \n",
        "    \"\", \n",
        "    \"\", \n",
        "    \"47115\", \n",
        "    \"1688\", \n",
        "    \"1639\", \n",
        "    \"1728\", \n",
        "    \"1724\", \n",
        "    \"2771\", \n",
        "・・・以下省略・・・\n",
        "]\n",
        "```"
      ]
    },
    {
      "cell_type": "markdown",
      "metadata": {
        "id": "gSopDpLHhpFj",
        "colab_type": "text"
      },
      "source": [
        "`for`ループを使用した場合と同一の結果になりました．"
      ]
    },
    {
      "cell_type": "markdown",
      "metadata": {
        "id": "iQslzndahpFk",
        "colab_type": "text"
      },
      "source": [
        ">Pythonでは一般的に`for`ループを使うよりも内包表記を使う方が処理速度が2倍程度速くなります．\n",
        "その代わり内包表記は慣れないとわかりにくくなってしまいます．\n",
        "スピードと慣れのトレードオフになりますが，\n",
        "あまりに凝りすぎてプログラムがわかりにくくなってしまうのも問題です．\n",
        "ほどほどに使っておきましょう．"
      ]
    },
    {
      "cell_type": "markdown",
      "metadata": {
        "id": "MGJMiCgchpFk",
        "colab_type": "text"
      },
      "source": [
        "`stat_tab`の最初の要素をリスト型オブジェクト`one_row`の要素にすることができました．\n",
        "`for`ループを使って`stat_tab`のすべての要素をリスト型にします．\n",
        "\n",
        "`one_row`は1行分のデータで，これを別のリスト型オブジェクト`tab_all`に`append`メソッドを使って追加していきます．"
      ]
    },
    {
      "cell_type": "code",
      "metadata": {
        "id": "N1Yz5gAchpFk",
        "colab_type": "code",
        "colab": {}
      },
      "source": [
        "# 確認用コードにつき，最終プログラムからは削除します\n",
        "tab_all = []\n",
        "one_row = []\n",
        "for u in stat_tab.keys():\n",
        "    one_row = [stat_tab[u][i].encode('utf-8') for i in col_name]\n",
        "    tab_all.append(one_row)"
      ],
      "execution_count": 0,
      "outputs": []
    },
    {
      "cell_type": "markdown",
      "metadata": {
        "id": "na0ImAEhhpFl",
        "colab_type": "text"
      },
      "source": [
        "`tab_all`の1行目を確認してみましょう．"
      ]
    },
    {
      "cell_type": "code",
      "metadata": {
        "id": "Uq6iovRThpFl",
        "colab_type": "code",
        "colab": {}
      },
      "source": [
        "# 確認用コードにつき，最終プログラムからは削除します\n",
        "#print(json.dumps(tab_all[0], ensure_ascii = False, indent = 4))"
      ],
      "execution_count": 0,
      "outputs": []
    },
    {
      "cell_type": "markdown",
      "metadata": {
        "id": "QmPqnNWmhpFm",
        "colab_type": "text"
      },
      "source": [
        "```\n",
        "[\n",
        "    \"132220120\", \n",
        "    \"2\", \n",
        "    \"東京都\", \n",
        "    \"東久留米市小山\", \n",
        "    \"1\", \n",
        "    \"\", \n",
        "    \"\", \n",
        "    \"5570\", \n",
        "    \"205\", \n",
        "    \"257\", \n",
        "    \"272\", \n",
        "・・・以下省略・・・\n",
        "]\n",
        "```"
      ]
    },
    {
      "cell_type": "markdown",
      "metadata": {
        "id": "oV6f5p-1hpFn",
        "colab_type": "text"
      },
      "source": [
        "千代田区ではない東久留米のデータが1行目に来ています．\n",
        "ディクショナリ型オブジェクトは順番が不定になりますので\n",
        "このような結果になっています．\n",
        "チェックはできませんが，多分大丈夫でしょう．"
      ]
    },
    {
      "cell_type": "markdown",
      "metadata": {
        "id": "pOi2tWuDhpFn",
        "colab_type": "text"
      },
      "source": [
        "`for`ループを使ってディクショナリ型オブジェクトの`stat_tab`を\n",
        "リスト型オブジェクトの`tab_all`に変換しましたが，\n",
        "これも内包表記を使って表すことができます．\n",
        "\n",
        "以下が内包表記の例です．"
      ]
    },
    {
      "cell_type": "code",
      "metadata": {
        "id": "rrs-rlqChpFn",
        "colab_type": "code",
        "colab": {}
      },
      "source": [
        "# 確認用コードにつき，最終プログラムからは削除します\n",
        "tab_all = []\n",
        "tab_all = [[stat_tab[u][i].encode('utf-8') for i in col_name] for u in stat_tab.keys()]"
      ],
      "execution_count": 0,
      "outputs": []
    },
    {
      "cell_type": "markdown",
      "metadata": {
        "id": "9JIFVBC_hpFs",
        "colab_type": "text"
      },
      "source": [
        "まず`tab_all`をリスト型オブジェクトとして生成します．\n",
        "\n",
        "`tab_all = [[`の部分は，リスト型オブジェクト`tab_all`の要素として\n",
        "更にリストを入れることを表しています．\n",
        "つまり`tab_all`はリストのリストになります．\n",
        "\n",
        "`tab_all`の要素は`[stat_tab[u][i] for i in col_name]`になります．\n",
        "これは値として`stat_tab`の要素を一つずつ入れることを表しています．\n",
        "`stat_tab`のどの要素にアクセスするかは添え字として使われている`u`と`i`の値で決まります．\n",
        "\n",
        "`u`は`for u in stat_tab.keys()`となっており，\n",
        "ディクショナリ型オブジェクト`stat_tab`のキーの一覧（リスト型になる）\n",
        "を一つずつ返します．\n",
        "また，`i`は`for i in col_name`となっており，\n",
        "リスト型オブジェクト`col_name`の要素を一つずつ返します．\n",
        "\n",
        "`[stat_tab[u][i] for i in col_name]`の部分は\n",
        "リスト`col_name`の要素を一つずつ`i`に入れ，`stat_tab`の一行分をリストにします．\n",
        "一行分の処理が終わったら`u`が`col_name`の2番目の要素になり，\n",
        "再度`[stat_tab[u][i] for i in col_name]`が繰り返されます．\n",
        "\n",
        "このようにしてディクショナリ型オブジェクト`stat_tab`を\n",
        "リスト型オブジェクト`tab_all`に変換することができます．\n",
        "\n",
        "`tab_all`の適当な要素をチェックしてみましょう．"
      ]
    },
    {
      "cell_type": "code",
      "metadata": {
        "id": "Kigkqo6IhpFs",
        "colab_type": "code",
        "colab": {}
      },
      "source": [
        "# 確認用コードにつき，最終プログラムからは削除します\n",
        "#print(json.dumps(tab_all[600], ensure_ascii = False, indent = 4))"
      ],
      "execution_count": 0,
      "outputs": []
    },
    {
      "cell_type": "markdown",
      "metadata": {
        "id": "Yb9WF8fThpFu",
        "colab_type": "text"
      },
      "source": [
        "```\n",
        "[\n",
        "    \"13222001001\", \n",
        "    \"3\", \n",
        "    \"東京都\", \n",
        "    \"東久留米市上の原１丁目\", \n",
        "    \"1\", \n",
        "    \"\", \n",
        "    \"\", \n",
        "    \"1270\", \n",
        "    \"13\", \n",
        "    \"10\", \n",
        "    \"19\", \n",
        "・・・以下省略・・・\n",
        "]\n",
        "```"
      ]
    },
    {
      "cell_type": "markdown",
      "metadata": {
        "id": "zVgE9VzShpFu",
        "colab_type": "text"
      },
      "source": [
        "こちらもうまくいっているようです．"
      ]
    },
    {
      "cell_type": "markdown",
      "metadata": {
        "id": "Xvo-Mdp9hpFu",
        "colab_type": "text"
      },
      "source": [
        "# csv.writerを使ってcsvとして書き出す"
      ]
    },
    {
      "cell_type": "markdown",
      "metadata": {
        "id": "8qO38hLghpFv",
        "colab_type": "text"
      },
      "source": [
        "リスト型オブジェクトになった`tab_all`と\n",
        "列名を表すリスト型オブジェクト`col_name`を`csv.writer`を使って\n",
        "csvファイルに書き出しましょう"
      ]
    },
    {
      "cell_type": "code",
      "metadata": {
        "id": "2NAc1XMYhpFv",
        "colab_type": "code",
        "colab": {}
      },
      "source": [
        "# 確認用コードにつき，最終プログラムからは削除します\n",
        "f = codecs.open(tab_info['@id']+'.txt', 'w')\n",
        "csv_writer = csv.writer(f)\n",
        "csv_writer.writerow(col_name)\n",
        "csv_writer.writerows(tab_all)\n",
        "f.close()"
      ],
      "execution_count": 0,
      "outputs": []
    },
    {
      "cell_type": "markdown",
      "metadata": {
        "id": "SOAvl3fIhpFx",
        "colab_type": "text"
      },
      "source": [
        "まず`codecs.open`を使ってデータ保存用のファイルを書き込みモードで開き，\n",
        "ファイルポインタを`f`として取得します．\n",
        "データ保存用のファイル名は`tab_info['@id']+'.txt'`となっています．\n",
        "`tab_info['@id']`には統計表情報取得用APIから取得した統計表IDが入っています．\n",
        "この値に`.txt`をつけたものをデータ保存用のファイル名にしています．\n",
        "\n",
        "ファイルポインタ`f`に対して`csv.writer`を使って\n",
        "`csv.writer`オブジェクトの`csv_writer`を作成します．\n",
        "この`csv_writer`オブジェクトに`writerow`メソッドを使って\n",
        "列名を表すリスト型オブジェクト`col_name`をカンマ分けで出力し，\n",
        "さらに表の本体を表すリスト型オブジェクト`tab_all`を`writerows`メソッドで出力します．\n",
        "最後にファイルポインタ`f`を`close`メソッドを使って閉じます．"
      ]
    },
    {
      "cell_type": "markdown",
      "metadata": {
        "id": "gj5X-hoxhpFx",
        "colab_type": "text"
      },
      "source": [
        "保存された`T00057313.txt`をエクセルで開いて中身を確認してみましょう．"
      ]
    },
    {
      "cell_type": "markdown",
      "metadata": {
        "id": "S7cuvKqZhpFy",
        "colab_type": "text"
      },
      "source": [
        "# 欠損値の処理"
      ]
    },
    {
      "cell_type": "markdown",
      "metadata": {
        "id": "2mzPH1C8hpF1",
        "colab_type": "text"
      },
      "source": [
        "エクセルで中身を見てみると，いくつかのデータが欠損「`-`」になっていることがわかります．\n",
        "このため，このcsvファイルをArcGISにインポートすると\n",
        "小地域ごと，男女別・年齢別人口が文字列として扱われてしまいます．\n",
        "これではコロプレスマップなどができませんので，\n",
        "適切な形で欠損値を処理する必要があります．\n",
        "\n",
        "処理の方法はいくつか考えられますが，\n",
        "最も単純なのは欠損値を0にする方法です．\n",
        "ここではこの方法で処理をしてみましょう．"
      ]
    },
    {
      "cell_type": "markdown",
      "metadata": {
        "id": "ZRqXb1sGhpF1",
        "colab_type": "text"
      },
      "source": [
        "欠損値を0で置き換えるための一番単純な方法は，\n",
        "リスト型オブジェクト`tab_all`の要素に一つずつアクセスし，\n",
        "値が欠損値を示す「`-`」の場合に0で更新するという方法です．\n",
        "\n",
        "`tab_all`は二重のリストになっているため，\n",
        "二重の`for`ループでアクセスすればよいでしょう．\n",
        "値が欠損値かどうかは`if`を用いて判断します．\n",
        "これは以下のようなコードになります．"
      ]
    },
    {
      "cell_type": "code",
      "metadata": {
        "id": "sdoUjs9khpF2",
        "colab_type": "code",
        "colab": {},
        "outputId": "c2c38156-2b04-4f84-c7a9-f6d9749ab5ca"
      },
      "source": [
        "# 確認用コードにつき，最終プログラムからは削除します\n",
        "\n",
        "# 二重のforループでifを使った例\n",
        "for i in tqdm(range(len(tab_all))):\n",
        "    for u in range(len(tab_all[0])):\n",
        "        if tab_all[i][u] == '-':\n",
        "            tab_all[i][u] = 0"
      ],
      "execution_count": 0,
      "outputs": [
        {
          "output_type": "stream",
          "text": [
            "100%|██████████| 6781/6781 [00:00<00:00, 99556.76it/s]\n"
          ],
          "name": "stderr"
        }
      ]
    },
    {
      "cell_type": "markdown",
      "metadata": {
        "id": "bHSwk4cdhpF3",
        "colab_type": "text"
      },
      "source": [
        "`i`のループは`tab_all`の要素数だけ繰り返します．\n",
        "すなわち小地域の数だけループすることになります．\n",
        "`u`のループは`tab_all[0]`の要素数だけループします．\n",
        "これはデータの列の数に相当しますので，67回のループになります．\n",
        "Python以外の言語に慣れている人にはわかりやすいコードになっています．"
      ]
    },
    {
      "cell_type": "markdown",
      "metadata": {
        "id": "8YgX5j32hpF3",
        "colab_type": "text"
      },
      "source": [
        "以下のコードで欠損値「`-`」を0に置き換えたものを\n",
        "`統計表ID_loop.txt`という名前で保存します．\n",
        "\n",
        "エクセルで内容を確認すると，\n",
        "欠損値をあらわす「`-`」がすべて0になっていることがわかります．"
      ]
    },
    {
      "cell_type": "code",
      "metadata": {
        "id": "7DcUC8Z3hpF4",
        "colab_type": "code",
        "colab": {}
      },
      "source": [
        "# 確認用コードにつき，最終プログラムからは削除します\n",
        "\n",
        "# 統計表ID_loop.txtとして書き出し\n",
        "f = codecs.open(tab_info['@id']+'_loop.txt', 'w')\n",
        "csv_writer = csv.writer(f)\n",
        "csv_writer.writerow(col_name)\n",
        "csv_writer.writerows(tab_all)\n",
        "f.close()"
      ],
      "execution_count": 0,
      "outputs": []
    },
    {
      "cell_type": "markdown",
      "metadata": {
        "id": "inal8ApbhpF5",
        "colab_type": "text"
      },
      "source": [
        "`if`を使わないで欠損値を0に置き換えてみましょう．\n",
        "置き換えには`replace`メソッドを使います．\n",
        "`replace`メソッドは第一引数の文字を第二引数で置き換えますが，\n",
        "文字に対してのみ使用できます．\n",
        "リスト型オブジェクト`tab_all`の各要素は文字列と数値が混ざっています．\n",
        "このため，文字列の要素（つまり欠損値である「`-`」が入っている要素）は`replace`メソッドが使えますが，\n",
        "数値の要素の場合にはエラーが出てしまいます．\n",
        "これを避けるために，`tab_all`のすべての要素を文字列に変換し，\n",
        "`replae`メソッドが使えるようにします．\n",
        "数値を文字列に変換するには`str`関数を使います．"
      ]
    },
    {
      "cell_type": "markdown",
      "metadata": {
        "id": "8ub9byHKhpF6",
        "colab_type": "text"
      },
      "source": [
        "以下のコードは`replace`メソッドを使った例です．\n",
        "まず`tab_all`を作り直します．\n",
        "次に二重の`for`ループの中で`tab_all`の各要素を`str`関数を用いて文字列に変換し，\n",
        "`replace`メソッドを使って欠損値を0に置き換えます．\n",
        "そのあとで，結果を`統計表ID_replace.txt`という名前で保存します．"
      ]
    },
    {
      "cell_type": "code",
      "metadata": {
        "id": "FauIYnMHhpF6",
        "colab_type": "code",
        "colab": {}
      },
      "source": [
        "# 確認用コードにつき，最終プログラムからは削除します\n",
        "\n",
        "# 欠損値の入っているtab_allを作り直す\n",
        "tab_all = []\n",
        "tab_all = [[stat_tab[u][i].encode('utf-8') for i in col_name] for u in stat_tab.keys()]\n",
        "\n",
        "#二重のforループでreplaceメソッドを使った例\n",
        "for i in range(len(tab_all)):\n",
        "    for u in range(len(tab_all[0])):\n",
        "        tab_all[i][u] = str(tab_all[i][u]).replace('-', '0')\n",
        "\n",
        "# 統計表ID_replae.txtとして書き出し\n",
        "f = codecs.open(tab_info['@id']+'_replace.txt', 'w')\n",
        "csv_writer = csv.writer(f)\n",
        "csv_writer.writerow(col_name)\n",
        "csv_writer.writerows(tab_all)\n",
        "f.close()"
      ],
      "execution_count": 0,
      "outputs": []
    },
    {
      "cell_type": "markdown",
      "metadata": {
        "id": "EzHES_uchpF7",
        "colab_type": "text"
      },
      "source": [
        "最後は内包表記で作成したものです．"
      ]
    },
    {
      "cell_type": "code",
      "metadata": {
        "id": "xowewVfWhpF7",
        "colab_type": "code",
        "colab": {}
      },
      "source": [
        "# 欠損値の入っているtab_allを作り直す\n",
        "tab_all = []\n",
        "tab_all = [[stat_tab[u][i].encode('utf-8') for i in col_name] for u in stat_tab.keys()]\n",
        "\n",
        "#内包表記バージョン\n",
        "tab_all = [[str(tab_all[u][i]).replace('-', '0') for i in range(len(tab_all[0]))] for u in range(len(tab_all))]\n",
        "\n",
        "f = codecs.open(tab_info['@id']+'.txt', 'w')\n",
        "csv_writer = csv.writer(f)\n",
        "csv_writer.writerow(col_name)\n",
        "csv_writer.writerows(tab_all)\n",
        "f.close()"
      ],
      "execution_count": 0,
      "outputs": []
    },
    {
      "cell_type": "markdown",
      "metadata": {
        "id": "IjuskWr-hpF8",
        "colab_type": "text"
      },
      "source": [
        "新しい`tab_all`の値は，文字列に変換した`tab_all`の中の欠損値「`-`」を0に置き換えたものになります．\n",
        "`tab_all`の各要素へのアクセスは二重の内包表記で表しており，\n",
        "内側のループは`tab_all[0]`の要素の数，外側のループは`tab_all`の要素の数となっています．"
      ]
    },
    {
      "cell_type": "markdown",
      "metadata": {
        "id": "f19_X4lohpF8",
        "colab_type": "text"
      },
      "source": [
        "以上でe-Stat APIから小地域のデータを取得し，\n",
        "csv型式で保存することができました．\n",
        "ここまでのプログラムを`estat_api_test.py`として用意しておきました．\n",
        "\n",
        "ここまでのプログラムはArcPyの機能を使っていないため，\n",
        "ArcGISが動いていない環境でも実行することができます．"
      ]
    },
    {
      "cell_type": "markdown",
      "metadata": {
        "id": "PhWLUPxHhpF9",
        "colab_type": "text"
      },
      "source": [
        "# ArcPyによるコロプレス作成"
      ]
    },
    {
      "cell_type": "markdown",
      "metadata": {
        "id": "mC8a0QLghpF-",
        "colab_type": "text"
      },
      "source": [
        "# ArcPyの設定"
      ]
    },
    {
      "cell_type": "markdown",
      "metadata": {
        "id": "hLsqrFBnhpF-",
        "colab_type": "text"
      },
      "source": [
        "ここからはArcPyを用いた作業になります．\n",
        "ArcPyを使うにはArcPyモジュールをインポートする必要があります．\n",
        "ArcPyモジュールを使用するには，有効なArcGISライセンスが必要になります．\n",
        "\n",
        "- `arcpy`：ArcGISの機能にアクセスするためのモジュール\n",
        "\n",
        "ArcPy本体のインポートと，\n",
        "ArcGISの環境設定に関するクラスをenvという別名でアクセスできるようにするための設定を行います．\n"
      ]
    },
    {
      "cell_type": "markdown",
      "metadata": {
        "collapsed": true,
        "id": "n-z5DjNghpF-",
        "colab_type": "text"
      },
      "source": [
        "import sys, os\n",
        "import arcpy\n",
        "from arcpy import env"
      ]
    },
    {
      "cell_type": "markdown",
      "metadata": {
        "id": "icMchy1bhpF_",
        "colab_type": "text"
      },
      "source": [
        "次に作業用のワークスペースを設定します．\n",
        "ワークスペースとは，ArcGISがファイルを読み書きする標準の場所のことを表します．\n",
        "そのためには，オブジェクト`env.workspace`にワークスペースにしたいディレクトリの絶対パスを\n",
        "クオーテーションで囲んで指定します．\n",
        "\n",
        "絶対パスではディレクトリの区切りに`\\`マークを使いますが，\n",
        "Pythonでの`\\`マークはエスケープシーケンスという特別な役割を持つ文字になりますので，\n",
        "`\\`を含む文字列はraw文字列として指定し，エスケープを解除した方がよいでしょう．\n",
        "文字列をraw文字列として指定するには，クオーテーションの前に\"`r`\"をつけます．\n",
        "\n",
        "具体的には以下のようにします．\n",
        "この例では，Tドライブの`work`ディレクトリをワークスペースにします．"
      ]
    },
    {
      "cell_type": "markdown",
      "metadata": {
        "collapsed": true,
        "id": "o87l1uAchpF_",
        "colab_type": "text"
      },
      "source": [
        "# クオーテーションの中は実際のワークスペースを指定してください\n",
        "env.workspace = r'T:\\work'"
      ]
    },
    {
      "cell_type": "markdown",
      "metadata": {
        "id": "qpTHvY1ZhpF_",
        "colab_type": "text"
      },
      "source": [
        "# ファイルジオデータベースの作成"
      ]
    },
    {
      "cell_type": "markdown",
      "metadata": {
        "id": "tgXX5ddthpF_",
        "colab_type": "text"
      },
      "source": [
        "先ほど作成した小地域データをインポートするためのファイルジオデータベースを作成します．\n",
        "作成するジオデータベースの名称は`estat.gdb`とし，変数`out_gdb`にファイル名を入れておきます．\n",
        "また，小地域データのファイル名も変数`in_data`に入れておきましょう．"
      ]
    },
    {
      "cell_type": "markdown",
      "metadata": {
        "collapsed": true,
        "scrolled": true,
        "id": "XmNG9TkohpGA",
        "colab_type": "text"
      },
      "source": [
        "out_gdb = 'estat.gdb'\n",
        "in_tab = 'T00057313.txt'\n",
        "in_base, in_ext = os.path.splitext(in_tab)\n",
        "out_tab = out_gdb + '\\\\' + in_base"
      ]
    },
    {
      "cell_type": "markdown",
      "metadata": {
        "id": "PudJC7U1hpGA",
        "colab_type": "text"
      },
      "source": [
        "次に実際にファイルジオデータベースを作成します．\n",
        "ファイルジオデータベースを作成するためには，\n",
        "ArcPyの`CreateFileGDB_management`関数を使います．\n",
        "使い方は以下になります．\n",
        "```\n",
        "arcpy.CreateFileGDB_management(作成する場所, 作成するファイルジオデータベースの名前)\n",
        "```\n",
        "作成する場所はワークスペース，作成するファイルジオデータベースの名前は変数`out_gdb`になるため，\n",
        "以下のコードになります．"
      ]
    },
    {
      "cell_type": "markdown",
      "metadata": {
        "collapsed": true,
        "scrolled": true,
        "id": "n79fAJgZhpGB",
        "colab_type": "text"
      },
      "source": [
        "arcpy.CreateFileGDB_management(env.workspace, out_gdb)"
      ]
    },
    {
      "cell_type": "markdown",
      "metadata": {
        "id": "nkzZ7ziPhpGC",
        "colab_type": "text"
      },
      "source": [
        "これでファイルジオデータベースが作成されました．"
      ]
    },
    {
      "cell_type": "markdown",
      "metadata": {
        "id": "bYxtu4oDhpGC",
        "colab_type": "text"
      },
      "source": [
        "# csvファイルをファイルジオデータベースへインポート"
      ]
    },
    {
      "cell_type": "markdown",
      "metadata": {
        "id": "zkyeMR2thpGE",
        "colab_type": "text"
      },
      "source": [
        "次に作成したファイルジオデータベースにcsvファイルをインポートします．\n",
        "ファイルジオデータベースにcsvファイルをインポートするには\n",
        "ArcPyの`TableToTable_conversion`関数を使います．\n",
        "`TableToTable_conversion`関数の使い方は\n",
        "```\n",
        "arcpy.TableToTable_conversion(読み込むデータ, 格納先のファイルジオデータベース名, ジオデータベース内のテーブル名）\n",
        "```\n",
        "になります．\n",
        "\n",
        "読み込むデータは`in_data`，\n",
        "格納先のファイルジオデータベース名は`out_gdb`，\n",
        "書き込むテーブル名は`in_base`になるため，\n",
        "以下のコードになります．"
      ]
    },
    {
      "cell_type": "markdown",
      "metadata": {
        "collapsed": true,
        "scrolled": true,
        "id": "CC1vq9BShpGE",
        "colab_type": "text"
      },
      "source": [
        "arcpy.TableToTable_conversion(in_tab, out_gdb, in_base)"
      ]
    },
    {
      "cell_type": "markdown",
      "metadata": {
        "id": "WaiqB-KPhpGF",
        "colab_type": "text"
      },
      "source": [
        "ファイルジオデータベース`estat.gdb`にテーブル`T00057313`ができているかArcMapで確認しましょう．"
      ]
    },
    {
      "cell_type": "markdown",
      "metadata": {
        "id": "CqnVFnfUhpGF",
        "colab_type": "text"
      },
      "source": [
        "# シェープファイルのマージ"
      ]
    },
    {
      "cell_type": "markdown",
      "metadata": {
        "id": "TU2Zm7alhpGF",
        "colab_type": "text"
      },
      "source": [
        "東京23区の小地域シェープファイルを用意しました．\n",
        "これをマージします．\n",
        "シェープファイルのマージは`Merge_management`関数を使います．\n",
        "`Merge_management`関数の使い方は以下になります．\n",
        "\n",
        "```\n",
        "arcpy.Merge_management(マージするシェープファイルをリストで指定, マージ後のシェープファイル名)\n",
        "```"
      ]
    },
    {
      "cell_type": "markdown",
      "metadata": {
        "id": "RcRec0PjhpGG",
        "colab_type": "text"
      },
      "source": [
        "マージするシェープファイルはリスト型オブジェクトとしてまとめて指定します．\n",
        "ArcPyにはワークスペース内にあるシェープファイルをリスト型オブジェクトとして返す\n",
        "`ListFeatureClasses`関数があります．\n",
        "`ListFeatureClasses`関数の使い方は以下です．\n",
        "\n",
        "```\n",
        "arcpy.ListFeatureClasses(ワイルドカード)\n",
        "```\n",
        "\n",
        "ワイルドカードを使うことにより，ワークスペース内にあるシェープファイルのうち，\n",
        "任意の条件のファイル名を持つシェープファイルのみをリスト化することができます．\n",
        "例えば，ワークスペース内にあるシェープファイルのうち，\n",
        "`h22ka`で始まるシェープファイルのみをリスト化したい場合はこのようにします．\n",
        "\n",
        "```\n",
        "arcpy.ListFeatureClasses('h22ka*')\n",
        "```\n",
        "\n",
        "コードをまとめると以下のようになります．"
      ]
    },
    {
      "cell_type": "markdown",
      "metadata": {
        "collapsed": true,
        "id": "1YmEULERhpGG",
        "colab_type": "text"
      },
      "source": [
        "shapes = arcpy.ListFeatureClasses('h22ka*')\n",
        "arcpy.Merge_management(shapes, out_gdb + r'\\tokyo23')"
      ]
    },
    {
      "cell_type": "markdown",
      "metadata": {
        "id": "1rZtUt39hpGG",
        "colab_type": "text"
      },
      "source": [
        "まず現在のワークスペース内にある`h22ka`で始まるシェープファイルをリスト化し，\n",
        "リスト型オブジェクト`shapes`に格納します．\n",
        "次に`shapes`の要素に対して`Merge_management`関数を用いてマージを行います．\n",
        "マージの結果は`out_gdb`の中に`tokyo23`という名前のフィーチャとして保存します．\n",
        "\n",
        "ArcPyを用いてファイルジオデータベース内のフィーチャやテーブルにアクセスするときには，\n",
        "ジオデータベース名とフィーチャ名の区切りに`\\`記号を使います．\n",
        "Pythonでは`\\`記号は特別な意味を持ちますので，\n",
        "raw文字列（クオーテーションの前に`r`をつける）として指定するのがよいでしょう．"
      ]
    },
    {
      "cell_type": "markdown",
      "metadata": {
        "id": "gA0pdm-zhpGG",
        "colab_type": "text"
      },
      "source": [
        "マージの結果をArcMapで確認してみましょう．"
      ]
    },
    {
      "cell_type": "markdown",
      "metadata": {
        "id": "w8xhmgOXhpGH",
        "colab_type": "text"
      },
      "source": [
        "# シェープファイルへのテーブル結合"
      ]
    },
    {
      "cell_type": "markdown",
      "metadata": {
        "id": "dhazTTephpGH",
        "colab_type": "text"
      },
      "source": [
        "次はフィーチャへのテーブル結合です．\n",
        "テーブル結合はフィーチャとテーブルの共通する値を持つ属性をキーにして，\n",
        "フィーチャにテーブルを結合する操作です．\n",
        "この場合，フィーチャとテーブルのキーとなる属性は同じデータタイプである必要があります．"
      ]
    },
    {
      "cell_type": "markdown",
      "metadata": {
        "id": "Ojk4Km5shpGH",
        "colab_type": "text"
      },
      "source": [
        "マージしたフィーチャ名を変数`feature_name`に格納しておきましょう．"
      ]
    },
    {
      "cell_type": "markdown",
      "metadata": {
        "collapsed": true,
        "id": "2NHaYCX9hpGJ",
        "colab_type": "text"
      },
      "source": [
        "feature_name = out_gdb + r'\\tokyo23'"
      ]
    },
    {
      "cell_type": "markdown",
      "metadata": {
        "id": "pe3f1hzIhpGJ",
        "colab_type": "text"
      },
      "source": [
        "テーブル結合の対象となるフィーチャは，\n",
        "変数`feature_name`で表されているジオデータベース内の`tokyo23`，\n",
        "結合するテーブルは同じくジオデータベース内の`T00057313`になります．\n",
        "テーブル名は`out_tab`に格納されています．\n",
        "\n",
        "どちらのデータにも小地域を表す`KEY_CODE`がありますが，\n",
        "フィーチャ側の`KEY_CODE`はTEXT型（文字列型）で，\n",
        "テーブル側の`KEY_CODE`はDouble型（数値の倍精度実数型）になっています．\n",
        "データタイプが異なるため，このままではテーブル結合ができません．\n",
        "両方のデータタイプをそろえる必要があります．\n",
        "\n",
        "ここでは，フィーチャ側の`KEY_CODE`をDouble型に変換し，\n",
        "これをキーとしてテーブル側の`KEY_CODE`と結合します．\n",
        "すでに存在している属性のデータタイプを変更することはできないため，\n",
        "テーブル側の`KEY_CODE`と同一のデータタイプを持つ新しい属性をフィーチャ側に作成し，\n",
        "その属性にシェープファイルの属性`KEY_CODE`の値を入れます．\n",
        "\n",
        "新しい属性を作るには`AddField_management`関数を使います．\n",
        "`AddField_management`関数の使い方は，\n",
        "\n",
        "```\n",
        "arcpy.AddField_management(属性を追加するテーブル名, 追加する属性名, 追加する属性のデータタイプ,)\n",
        "```\n",
        "になります．\n",
        "\n",
        "フィールドはフィーチャに追加しますので，\n",
        "属性を追加するテーブル名は追加するフィーチャの名前そのもの，\n",
        "つまり変数`feature_name`になります．\n",
        "追加したい属性名は`KC`，データタイプは`DOUBLE`とします．\n",
        "\n",
        "以下が実際のコードになります．"
      ]
    },
    {
      "cell_type": "markdown",
      "metadata": {
        "collapsed": true,
        "id": "qWAp6ifghpGJ",
        "colab_type": "text"
      },
      "source": [
        "arcpy.AddField_management(feature_name, 'KC', 'DOUBLE')"
      ]
    },
    {
      "cell_type": "markdown",
      "metadata": {
        "id": "D7Omb_48hpGK",
        "colab_type": "text"
      },
      "source": [
        "結果をArcMapで確認しましょう．"
      ]
    },
    {
      "cell_type": "markdown",
      "metadata": {
        "id": "Br8qE4GhhpGK",
        "colab_type": "text"
      },
      "source": [
        "次にシェープファイルの属性`KEY_CODE`の値を新しく作成した`KC`にコピーします．\n",
        "`KEY_CODE`のデータタイプはテキスト，`KC`のデータタイプは数値ですが，\n",
        "自動的にコピー先のデータタイプに変換されて値が格納されます．\n",
        "\n",
        "データのコピーにはフィールド演算の機能を使います．\n",
        "ArcPyでフィールド演算を行うのは`CalculateField_management`関数になります．\n",
        "`CalculateField_management`関数の書式は\n",
        "```\n",
        "arcpy.CaclulateField_management(計算対象のテーブル名, 計算結果を格納する属性名, 計算式, 計算式の書式)\n",
        "```\n",
        "になります．\n",
        "\n",
        "実際のコードは以下になります．"
      ]
    },
    {
      "cell_type": "markdown",
      "metadata": {
        "collapsed": true,
        "id": "JsErNr9RhpGK",
        "colab_type": "text"
      },
      "source": [
        "arcpy.CalculateField_management(feature_name, 'KC', '!KEY_CODE!', 'PYTHON')"
      ]
    },
    {
      "cell_type": "markdown",
      "metadata": {
        "id": "32kUMl0rhpGL",
        "colab_type": "text"
      },
      "source": [
        "属性`KC`に属性`KEY_CODE`の値を代入します．\n",
        "属性の値を参照する際には属性名を`!`で囲む必要があります．\n",
        "この書式はPython型式なので，計算式の書式を`PYTHON`とします．\n",
        "\n",
        "結果を確認してみましょう．"
      ]
    },
    {
      "cell_type": "markdown",
      "metadata": {
        "id": "c6P_SC-chpGL",
        "colab_type": "text"
      },
      "source": [
        "次はテーブル結合です．"
      ]
    },
    {
      "cell_type": "markdown",
      "metadata": {
        "id": "X9GY51Y2hpGL",
        "colab_type": "text"
      },
      "source": [
        "テーブル結合を行うためには`JoinField_management`関数を使います．\n",
        "通常のテーブル結合では，テーブル結合されたフィーチャないしシェープファイルの属性テーブルは\n",
        "画面上ではテーブルが結合されているように見えるのですが，\n",
        "実際には結合されたデータが作成されたわけではありませんでした．\n",
        "このため，テーブル結合の後にデータのエクスポートをする必要がありました．\n",
        "これに対し，`JoinField_management`関数はフィーチャにテーブルを完全に結合します．\n",
        "\n",
        "`JoinField_management`書式は以下になります．\n",
        "\n",
        "```\n",
        "JoinField_management(結合されるフィーチャ名, フィーチャ側のキー名, 結合するテーブル名, テーブル側のキー名)\n",
        "```\n",
        "\n",
        "変数`feature_name`で表されているジオデータベース内の`tokyo23`と，\n",
        "変数`out_tab`で表されているジオデータベース内の`T00057313`を\n",
        "それぞれ`KC`と`KEY_CODE`で結合します．\n",
        "コードは以下になります．"
      ]
    },
    {
      "cell_type": "markdown",
      "metadata": {
        "collapsed": true,
        "scrolled": true,
        "id": "sm48qc7OhpGM",
        "colab_type": "text"
      },
      "source": [
        "arcpy.JoinField_management(feature_name, 'KC', out_tab, 'KEY_CODE')"
      ]
    },
    {
      "cell_type": "markdown",
      "metadata": {
        "id": "HCc9pRuahpGM",
        "colab_type": "text"
      },
      "source": [
        "データ量が多いためテーブル結合に少々時間がかかります．\n",
        "結合が終わったら結果を確認してみてください．\n",
        "\n",
        "以上，ArcPyを用いた部分を`estat_arcpy.py`として用意しておきました．"
      ]
    },
    {
      "cell_type": "markdown",
      "metadata": {
        "id": "lI_s62vmhpGM",
        "colab_type": "text"
      },
      "source": [
        "# おわりに"
      ]
    },
    {
      "cell_type": "markdown",
      "metadata": {
        "id": "CvYR5WDthpGM",
        "colab_type": "text"
      },
      "source": [
        "駆け足でしたが，ArcPyからe-Stat APIを使うための解説をしてみました．\n",
        "ほとんどの部分がe-Stat APIをPythonaでどのように使うかという説明でしたが，\n",
        "うまくe-Stat APIを使うことで仕事や研究が効率的に進んでもらえればと思います．\n",
        "\n",
        "ArcPyはPythonのモジュールというのが表向きの姿です．\n",
        "ArcGISをインストールするとPythonの実行環境もインストールされますが，\n",
        "インストールされたPythonはバージョンが少し古いなど，\n",
        "少々使いにくい部分もあります．\n",
        "\n",
        "本格的にPythonプログラミングをしたいのであれば，\n",
        "anacondaなどのオールインワンパッケージをインストールするのが良いと思います．\n",
        "anacondaのPython環境は最新バージョンであり，\n",
        "pandas，scipy，numpy，scikit-learnなどの統計計算，数値計算，機械学習モジュール\n",
        "などもすぐに使えるようになっています．\n",
        "anacondaのPythonでArcPyを使えるように設定すれば，\n",
        "かなり強力な処理系になります．\n",
        "\n",
        "実際にPythonやArcPyのプログラムを開発する環境としては，\n",
        "Jupyter Notebookやeclipse+PyDevがおすすめです．\n",
        "\n",
        "Jupyter Notebookは探索的なプログラミングをするのに向いていますし，\n",
        "eclipseはIDEなのでフレームワークを使ったプログラミングに適しています．\n",
        "\n",
        "今回のこのテキストはJupyter Notebookを使って作成しています．\n",
        "プログラムとメモを同時に入力できるため，\n",
        "処理のプロセスを明確にすることができますし，\n",
        "このようなテキストを作成するには最適な環境だと思います．\n",
        "\n",
        "おすすめの方法としては，Jupyter Notebookを使って特定の機能を持つプログラムを探索的に作成し，\n",
        "フレームワークのパーツを作っていきます．\n",
        "フレームワークのパーツができたらeclipseを使ってそれを組み合わせ，\n",
        "大規模なプログラムを作成するという方法です．\n",
        "\n",
        "プログラミング言語もプログラミング環境もさまざまなものがあり，\n",
        "それぞれ長所と短所があります．\n",
        "うまく組み合わせてeffective programmingを実践したいと思います．"
      ]
    }
  ]
}